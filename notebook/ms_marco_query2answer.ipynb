{
  "cells": [
    {
      "cell_type": "code",
      "execution_count": null,
      "metadata": {
        "id": "vR6iTdXPZgBl"
      },
      "outputs": [],
      "source": [
        "!pip install datasets"
      ]
    },
    {
      "cell_type": "code",
      "execution_count": null,
      "metadata": {
        "id": "NfscJCqNZyVY"
      },
      "outputs": [],
      "source": [
        "!pip install sentence_transformers"
      ]
    },
    {
      "cell_type": "code",
      "execution_count": 24,
      "metadata": {
        "id": "lMbq6C9dbYpS",
        "colab": {
          "base_uri": "https://localhost:8080/"
        },
        "outputId": "c441afcf-c663-4aaa-d025-4196c22aa1c0"
      },
      "outputs": [
        {
          "output_type": "stream",
          "name": "stderr",
          "text": [
            "[nltk_data] Downloading package punkt_tab to /root/nltk_data...\n",
            "[nltk_data]   Package punkt_tab is already up-to-date!\n"
          ]
        }
      ],
      "source": [
        "import random\n",
        "import pandas as pd\n",
        "import numpy as np\n",
        "import re\n",
        "\n",
        "import nltk\n",
        "nltk.download('punkt_tab')\n",
        "from nltk.tokenize import sent_tokenize\n",
        "\n",
        "from transformers import pipeline\n",
        "from datasets import load_dataset\n",
        "from sentence_transformers import SentenceTransformer, util, CrossEncoder"
      ]
    },
    {
      "cell_type": "markdown",
      "metadata": {
        "id": "hKcYOfFafb2c"
      },
      "source": [
        "## Load MS_MARCO Dataset"
      ]
    },
    {
      "cell_type": "code",
      "execution_count": 25,
      "metadata": {
        "id": "DsnnzabfaB8k"
      },
      "outputs": [],
      "source": [
        "dataset = load_dataset(\"ms_marco\",  \"v1.1\", trust_remote_code=True)"
      ]
    },
    {
      "cell_type": "code",
      "source": [
        "train_data = dataset['train'][:100]"
      ],
      "metadata": {
        "id": "9erQNkk5q5lO"
      },
      "execution_count": 26,
      "outputs": []
    },
    {
      "cell_type": "code",
      "execution_count": 27,
      "metadata": {
        "colab": {
          "base_uri": "https://localhost:8080/"
        },
        "id": "c4iGJoltfMUR",
        "outputId": "973fc9ec-f4b4-4553-c115-dd4437dcb476"
      },
      "outputs": [
        {
          "output_type": "stream",
          "name": "stdout",
          "text": [
            "dict_keys(['answers', 'passages', 'query', 'query_id', 'query_type', 'wellFormedAnswers'])\n"
          ]
        }
      ],
      "source": [
        "print(train_data.keys())"
      ]
    },
    {
      "cell_type": "code",
      "source": [
        "queries = train_data['query']\n",
        "passages = [entry['passage_text'] for entry in train_data['passages']]\n",
        "answers = train_data['answers']"
      ],
      "metadata": {
        "id": "aKM_k6f7x38d"
      },
      "execution_count": 28,
      "outputs": []
    },
    {
      "cell_type": "markdown",
      "source": [
        "### Preview Data"
      ],
      "metadata": {
        "id": "neRhhRCpCYa7"
      }
    },
    {
      "cell_type": "code",
      "source": [
        "pd.set_option('display.max_colwidth', 100)\n",
        "pd.set_option('display.colheader_justify', 'left')\n",
        "\n",
        "df = pd.DataFrame({\n",
        "    'query': queries,\n",
        "    'passage': passages,\n",
        "    'answer': answers,\n",
        "})\n",
        "\n",
        "print(df.head())"
      ],
      "metadata": {
        "colab": {
          "base_uri": "https://localhost:8080/"
        },
        "id": "m0-QW5Mxx5Jr",
        "outputId": "89097f4a-57f3-49cc-c314-576f9b0b214f"
      },
      "execution_count": 29,
      "outputs": [
        {
          "output_type": "stream",
          "name": "stdout",
          "text": [
            "  query                                                   \\\n",
            "0                                            what is rba   \n",
            "1                           was ronald reagan a democrat   \n",
            "2  how long do you need for sydney and surrounding areas   \n",
            "3                        price to install tile in shower   \n",
            "4                        why conversion observed in body   \n",
            "\n",
            "  passage                                                                                               \\\n",
            "0  [Since 2007, the RBA's outstanding reputation has been affected by the 'Securency' or NPA scanda...   \n",
            "1  [In his younger years, Ronald Reagan was a member of the Democratic Party and campaigned for Dem...   \n",
            "2  [Sydney, New South Wales, Australia is located in a coastal basin bordered by the Pacific Ocean ...   \n",
            "3  [In regards to tile installation costs, consumers can expect to pay an average of $25 per square...   \n",
            "4  [Conclusions: In adult body CT, dose to an organ fully encompassed by the primary radiation beam...   \n",
            "\n",
            "  answer                                                                                                \n",
            "0  [Results-Based Accountability is a disciplined way of thinking and taking action that communitie...  \n",
            "1                                                                                                [Yes]  \n",
            "2                                                                                      [20-25 minutes]  \n",
            "3                                                                         [$11 to $22 per square foot]  \n",
            "4                                                                        [Due to symptoms in the body]  \n"
          ]
        }
      ]
    },
    {
      "cell_type": "markdown",
      "source": [
        "## Query Preparation"
      ],
      "metadata": {
        "id": "91MabreooQol"
      }
    },
    {
      "cell_type": "code",
      "source": [
        "def clean_query(query):\n",
        "    # Remove special characters and digits, keep only letters and spaces\n",
        "    cleaned_query = re.sub(r'[^a-zA-Z\\s]', '', query)\n",
        "\n",
        "    cleaned_query = cleaned_query.lower()\n",
        "\n",
        "    return cleaned_query"
      ],
      "metadata": {
        "id": "Nr3C4KpWoQUz"
      },
      "execution_count": 30,
      "outputs": []
    },
    {
      "cell_type": "markdown",
      "source": [
        "## Answer Preparation"
      ],
      "metadata": {
        "id": "d3ttmJEXoYN1"
      }
    },
    {
      "cell_type": "markdown",
      "metadata": {
        "id": "qJQQNu0ffgdi"
      },
      "source": [
        "### Embedder"
      ]
    },
    {
      "cell_type": "code",
      "execution_count": 31,
      "metadata": {
        "id": "HGKcAH9zbzej"
      },
      "outputs": [],
      "source": [
        "model_name = 'all-mpnet-base-v2'\n",
        "embedder = SentenceTransformer(model_name)"
      ]
    },
    {
      "cell_type": "markdown",
      "source": [
        "##### Embed all passages"
      ],
      "metadata": {
        "id": "T0frufLnDK5A"
      }
    },
    {
      "cell_type": "code",
      "source": [
        "passage_embeddings = embedder.encode(passages, convert_to_tensor=True)"
      ],
      "metadata": {
        "id": "7JIn4kw5DKKx"
      },
      "execution_count": 32,
      "outputs": []
    },
    {
      "cell_type": "markdown",
      "source": [
        "### Function to Extract the 3 most relevant sentences from the passage"
      ],
      "metadata": {
        "id": "6Yobchv_3ZMR"
      }
    },
    {
      "cell_type": "code",
      "source": [
        "cross_encoder = CrossEncoder(\"cross-encoder/ms-marco-MiniLM-L-6-v2\")"
      ],
      "metadata": {
        "id": "rIgyVoVmZ2I_"
      },
      "execution_count": 33,
      "outputs": []
    },
    {
      "cell_type": "code",
      "source": [
        "def extract_relevant_sentence(query, passage, top_k=3):\n",
        "    # Split passage into sentences\n",
        "    sentences = sent_tokenize(passage)\n",
        "\n",
        "    # Create sentence-query pairs\n",
        "    sentence_query_pairs = [(query, sentence) for sentence in sentences]\n",
        "\n",
        "    # Rank sentences using the Cross Encoder\n",
        "    scores = cross_encoder.predict(sentence_query_pairs)\n",
        "\n",
        "    # Get indices of sentences with top-k highest relevance (based on cross-encoder scores)\n",
        "    top_sentence_indices = np.argsort(scores)[::-1][:top_k]\n",
        "\n",
        "    # Get the most relevant sentences based on the top indices\n",
        "    relevant_sentences = [sentences[i] for i in top_sentence_indices]\n",
        "\n",
        "    return \" \".join(relevant_sentences)"
      ],
      "metadata": {
        "id": "6-fL7c9i73As"
      },
      "execution_count": 34,
      "outputs": []
    },
    {
      "cell_type": "markdown",
      "source": [
        "### Set up Summarizer"
      ],
      "metadata": {
        "id": "Ser6QAkfDi20"
      }
    },
    {
      "cell_type": "code",
      "source": [
        "summarizer = pipeline(\"summarization\", model=\"facebook/bart-large-cnn\")"
      ],
      "metadata": {
        "colab": {
          "base_uri": "https://localhost:8080/"
        },
        "id": "qKzjrKA67cT7",
        "outputId": "e9ca5139-ed99-4497-ab18-6b6ebb8876c4"
      },
      "execution_count": 35,
      "outputs": [
        {
          "output_type": "stream",
          "name": "stderr",
          "text": [
            "Device set to use cpu\n"
          ]
        }
      ]
    },
    {
      "cell_type": "code",
      "source": [
        "def summarize_text(text, max_length, min_length):\n",
        "    summary = summarizer(text, max_length=max_length, min_length=min_length, do_sample=False) # Deterministic not Random Output\n",
        "    return summary[0]['summary_text']"
      ],
      "metadata": {
        "id": "OWjT44nz7i4A"
      },
      "execution_count": 36,
      "outputs": []
    },
    {
      "cell_type": "markdown",
      "source": [
        "## Testing the Model"
      ],
      "metadata": {
        "id": "T4N45hooog2t"
      }
    },
    {
      "cell_type": "markdown",
      "source": [
        "### Query based on the queries that came with the dataset"
      ],
      "metadata": {
        "id": "_LWqWRS-ESLM"
      }
    },
    {
      "cell_type": "code",
      "source": [
        "queries_to_use = random.sample(queries, 5)\n",
        "print(queries_to_use)"
      ],
      "metadata": {
        "colab": {
          "base_uri": "https://localhost:8080/"
        },
        "id": "wdT3-LQjhQqM",
        "outputId": "50c7244b-c9c0-46e7-fce9-52f2de041190"
      },
      "execution_count": 37,
      "outputs": [
        {
          "output_type": "stream",
          "name": "stdout",
          "text": [
            "['How much will it cost to go to college to become a detective', 'cal water phone number torrance CA', 'where are the lungs located in the back', 'describe the pathway of a nerve impulse through a reflex arc', 'what is conduction']\n"
          ]
        }
      ]
    },
    {
      "cell_type": "code",
      "source": [
        "preview = []\n",
        "queries_embeddings = embedder.encode(queries_to_use, convert_to_tensor=True)\n",
        "hit = util.semantic_search(queries_embeddings, passage_embeddings, top_k=1)\n",
        "\n",
        "for i in range(len(queries_to_use)):\n",
        "    query = clean_query(queries_to_use[i])\n",
        "\n",
        "    # Get most relevant passage\n",
        "    result = hit[i][0]\n",
        "    corpus_id = result['corpus_id']  # Use corpus_id to find the passage\n",
        "    passage = ' '.join(passages[corpus_id])\n",
        "\n",
        "    # Extract the 3 most relevant sentences from the passage\n",
        "    best_sentences = extract_relevant_sentence(query, passage, top_k=3)\n",
        "\n",
        "    # Summarize the best sentences\n",
        "    summary = summarizer(best_sentences, max_length=50, min_length=10)\n",
        "\n",
        "    # Store the preview data for this query\n",
        "    preview.append({\n",
        "        \"query\": query,\n",
        "        \"best_sentences\": best_sentences,\n",
        "        \"summary\": summary,\n",
        "        \"query_passage_similarity_score\": result[\"score\"]\n",
        "    })"
      ],
      "metadata": {
        "id": "pzi9RoVFEii1"
      },
      "execution_count": 38,
      "outputs": []
    },
    {
      "cell_type": "code",
      "source": [
        "# Remove key 'summary_text'\n",
        "for entry in preview:\n",
        "    entry['summary'] = entry['summary'][0]['summary_text']"
      ],
      "metadata": {
        "id": "9e1GpZjBJzxc"
      },
      "execution_count": 39,
      "outputs": []
    },
    {
      "cell_type": "code",
      "source": [
        "pd.set_option('display.max_colwidth', None)\n",
        "pd.set_option('display.colheader_justify', 'left')\n",
        "\n",
        "df_preview = pd.DataFrame(preview)\n",
        "df_preview_styled = df_preview.style.set_properties(**{'text-align': 'left'})\n",
        "\n",
        "df_preview_styled"
      ],
      "metadata": {
        "colab": {
          "base_uri": "https://localhost:8080/",
          "height": 588
        },
        "id": "rF9l2Ve8Gq8U",
        "outputId": "06c98256-8296-404a-81c7-2d7e3e40a85a"
      },
      "execution_count": 40,
      "outputs": [
        {
          "output_type": "execute_result",
          "data": {
            "text/plain": [
              "<pandas.io.formats.style.Styler at 0x7cba08284610>"
            ],
            "text/html": [
              "<style type=\"text/css\">\n",
              "#T_39dcf_row0_col0, #T_39dcf_row0_col1, #T_39dcf_row0_col2, #T_39dcf_row0_col3, #T_39dcf_row1_col0, #T_39dcf_row1_col1, #T_39dcf_row1_col2, #T_39dcf_row1_col3, #T_39dcf_row2_col0, #T_39dcf_row2_col1, #T_39dcf_row2_col2, #T_39dcf_row2_col3, #T_39dcf_row3_col0, #T_39dcf_row3_col1, #T_39dcf_row3_col2, #T_39dcf_row3_col3, #T_39dcf_row4_col0, #T_39dcf_row4_col1, #T_39dcf_row4_col2, #T_39dcf_row4_col3 {\n",
              "  text-align: left;\n",
              "}\n",
              "</style>\n",
              "<table id=\"T_39dcf\" class=\"dataframe\">\n",
              "  <thead>\n",
              "    <tr>\n",
              "      <th class=\"blank level0\" >&nbsp;</th>\n",
              "      <th id=\"T_39dcf_level0_col0\" class=\"col_heading level0 col0\" >query</th>\n",
              "      <th id=\"T_39dcf_level0_col1\" class=\"col_heading level0 col1\" >best_sentences</th>\n",
              "      <th id=\"T_39dcf_level0_col2\" class=\"col_heading level0 col2\" >summary</th>\n",
              "      <th id=\"T_39dcf_level0_col3\" class=\"col_heading level0 col3\" >query_passage_similarity_score</th>\n",
              "    </tr>\n",
              "  </thead>\n",
              "  <tbody>\n",
              "    <tr>\n",
              "      <th id=\"T_39dcf_level0_row0\" class=\"row_heading level0 row0\" >0</th>\n",
              "      <td id=\"T_39dcf_row0_col0\" class=\"data row0 col0\" >how much will it cost to go to college to become a detective</td>\n",
              "      <td id=\"T_39dcf_row0_col1\" class=\"data row0 col1\" >At $80 per community college credit, a criminal justice degree costs about $2,500 each year. A: The degree that you need to be a detective can be a minimum of a high school diploma, GED or, preferably, an associate's degree in a subject related to law, criminal justice, forensics, crime scene investigation or legal studies. They only plan to hire 55 If you choose to get your criminal justice degree at a community college, you’ll pay about $80 per credit.</td>\n",
              "      <td id=\"T_39dcf_row0_col2\" class=\"data row0 col2\" >At $80 per community college credit, a criminal justice degree costs about $2,500 each year. The degree that you need to be a detective can be a minimum of a high school diploma, GED or, preferably, an</td>\n",
              "      <td id=\"T_39dcf_row0_col3\" class=\"data row0 col3\" >0.603885</td>\n",
              "    </tr>\n",
              "    <tr>\n",
              "      <th id=\"T_39dcf_level0_row1\" class=\"row_heading level0 row1\" >1</th>\n",
              "      <td id=\"T_39dcf_row1_col0\" class=\"data row1 col0\" >cal water phone number torrance ca</td>\n",
              "      <td id=\"T_39dcf_row1_col1\" class=\"data row1 col1\" >Torrance Municipal Water Utility can be reached at 1-855-354-5623, and California Water Service Company can be contacted at 1-310-257-1400. For after-hours emergencies, please call Torrance Public Safety at 1-310-328-3456. Torrance is a city in the South Bay (southwestern) region of Los Angeles County, California, United States.</td>\n",
              "      <td id=\"T_39dcf_row1_col2\" class=\"data row1 col2\" >Torrance is a city in the South Bay (southwestern) region of Los Angeles County, California, United States. Torrance Municipal Water Utility can be reached at 1-855-354-5623.</td>\n",
              "      <td id=\"T_39dcf_row1_col3\" class=\"data row1 col3\" >0.581574</td>\n",
              "    </tr>\n",
              "    <tr>\n",
              "      <th id=\"T_39dcf_level0_row2\" class=\"row_heading level0 row2\" >2</th>\n",
              "      <td id=\"T_39dcf_row2_col0\" class=\"data row2 col0\" >where are the lungs located in the back</td>\n",
              "      <td id=\"T_39dcf_row2_col1\" class=\"data row2 col1\" >2  Where are the lungs located in the back. In humans, the lungs are located on either side of the heart in the chest, with the left lung sharing the left side of the space with the heart, which sits in an impression called the cardiac notch. The lungs are a pair of spongy, air-filled organs located on either side of the chest (thorax).</td>\n",
              "      <td id=\"T_39dcf_row2_col2\" class=\"data row2 col2\" >The lungs are a pair of spongy, air-filled organs located on either side of the chest (thorax) In humans, the lungs are located onEither side of a heart in the chest. The left lung shares</td>\n",
              "      <td id=\"T_39dcf_row2_col3\" class=\"data row2 col3\" >0.707430</td>\n",
              "    </tr>\n",
              "    <tr>\n",
              "      <th id=\"T_39dcf_level0_row3\" class=\"row_heading level0 row3\" >3</th>\n",
              "      <td id=\"T_39dcf_row3_col0\" class=\"data row3 col0\" >describe the pathway of a nerve impulse through a reflex arc</td>\n",
              "      <td id=\"T_39dcf_row3_col1\" class=\"data row3 col1\" >the circuit traveled by impulses producing a reflex action: from the receptor organ, through the afferent nerve, nerve center, efferent nerve, A reflex arc is a neural pathway that controls a reflex action. The nerve impulse travels through the reflex arc. Reflex arc is the path of impulse that travels from receptor (ex.</td>\n",
              "      <td id=\"T_39dcf_row3_col2\" class=\"data row3 col2\" >A reflex arc is a neural pathway that controls a reflex action. The nerve impulse travels through the reflex arc. Reflex arc is the path of impulse that travels from receptor to receptor.</td>\n",
              "      <td id=\"T_39dcf_row3_col3\" class=\"data row3 col3\" >0.825541</td>\n",
              "    </tr>\n",
              "    <tr>\n",
              "      <th id=\"T_39dcf_level0_row4\" class=\"row_heading level0 row4\" >4</th>\n",
              "      <td id=\"T_39dcf_row4_col0\" class=\"data row4 col0\" >what is conduction</td>\n",
              "      <td id=\"T_39dcf_row4_col1\" class=\"data row4 col1\" >Conduction is the transfer of energy in the form of heat or electricity from one atom to another within an object by direct contact. Conduction is the transfer of heat from one molecule to another through a substance. Conduction is the transfer of energy through matter from particle to particle.</td>\n",
              "      <td id=\"T_39dcf_row4_col2\" class=\"data row4 col2\" >Conduction is the transfer of energy in the form of heat or electricity from one atom to another within an object by direct contact.</td>\n",
              "      <td id=\"T_39dcf_row4_col3\" class=\"data row4 col3\" >0.619968</td>\n",
              "    </tr>\n",
              "  </tbody>\n",
              "</table>\n"
            ]
          },
          "metadata": {},
          "execution_count": 40
        }
      ]
    },
    {
      "cell_type": "markdown",
      "source": [
        "### Input your own query"
      ],
      "metadata": {
        "id": "zSvWPL2gDmm6"
      }
    },
    {
      "cell_type": "code",
      "source": [
        "my_query = clean_query(input(\"My Question: \"))\n",
        "my_query_embedding = embedder.encode([my_query], convert_to_tensor=True)\n",
        "my_hits = util.semantic_search(my_query_embedding, passage_embeddings, top_k=1)\n",
        "\n",
        "my_preview = []\n",
        "\n",
        "for result in my_hits[0]: # Most relevant passage\n",
        "    corpus_id = result[\"corpus_id\"]\n",
        "    passage = \" \".join(passages[corpus_id])\n",
        "\n",
        "    # Extract the 3 most relevant sentences\n",
        "    best_sentences = extract_relevant_sentence(my_query, passage, top_k=3)\n",
        "\n",
        "    # Summarize the best sentences\n",
        "    summary = summarize_text(best_sentences, max_length=50, min_length=10)\n",
        "\n",
        "    my_preview.append({\n",
        "        \"query\": my_query,\n",
        "        \"best_sentences\": best_sentences,\n",
        "        \"summary\": summary,\n",
        "        \"query_passage_similarity_score\": result[\"score\"]\n",
        "    })"
      ],
      "metadata": {
        "colab": {
          "base_uri": "https://localhost:8080/"
        },
        "id": "_ZVlK1Yq8Njc",
        "outputId": "7e6f1157-edc0-4342-ad40-e2ee58f4896b"
      },
      "execution_count": 43,
      "outputs": [
        {
          "name": "stdout",
          "output_type": "stream",
          "text": [
            "My Question: Should I get vaccinated?\n"
          ]
        }
      ]
    },
    {
      "cell_type": "code",
      "source": [
        "df_my_preview = pd.DataFrame(my_preview)\n",
        "df_my_preview_styled = df_my_preview.style.set_properties(**{'text-align': 'left'})\n",
        "\n",
        "df_my_preview_styled"
      ],
      "metadata": {
        "colab": {
          "base_uri": "https://localhost:8080/",
          "height": 150
        },
        "id": "vvUv6LT2AQTT",
        "outputId": "2c356684-dfc1-4d82-8aea-131d2cc5f1a1"
      },
      "execution_count": 44,
      "outputs": [
        {
          "output_type": "execute_result",
          "data": {
            "text/plain": [
              "<pandas.io.formats.style.Styler at 0x7cba0284fcd0>"
            ],
            "text/html": [
              "<style type=\"text/css\">\n",
              "#T_2b9d4_row0_col0, #T_2b9d4_row0_col1, #T_2b9d4_row0_col2, #T_2b9d4_row0_col3 {\n",
              "  text-align: left;\n",
              "}\n",
              "</style>\n",
              "<table id=\"T_2b9d4\" class=\"dataframe\">\n",
              "  <thead>\n",
              "    <tr>\n",
              "      <th class=\"blank level0\" >&nbsp;</th>\n",
              "      <th id=\"T_2b9d4_level0_col0\" class=\"col_heading level0 col0\" >query</th>\n",
              "      <th id=\"T_2b9d4_level0_col1\" class=\"col_heading level0 col1\" >best_sentences</th>\n",
              "      <th id=\"T_2b9d4_level0_col2\" class=\"col_heading level0 col2\" >summary</th>\n",
              "      <th id=\"T_2b9d4_level0_col3\" class=\"col_heading level0 col3\" >query_passage_similarity_score</th>\n",
              "    </tr>\n",
              "  </thead>\n",
              "  <tbody>\n",
              "    <tr>\n",
              "      <th id=\"T_2b9d4_level0_row0\" class=\"row_heading level0 row0\" >0</th>\n",
              "      <td id=\"T_2b9d4_row0_col0\" class=\"data row0 col0\" >should i get vaccinated</td>\n",
              "      <td id=\"T_2b9d4_row0_col1\" class=\"data row0 col1\" >For most patients, vaccination is a safe and effective way to prevent German measles (rubella). The German measles vaccine is typically combined with vaccines for the measles and mumps, as well as varicella, the virus that causes chicken pox. Quick Answer.</td>\n",
              "      <td id=\"T_2b9d4_row0_col2\" class=\"data row0 col2\" >For most patients, vaccination is a safe and effective way to prevent German measles. The German measles vaccine is typically combined with vaccines for the measles and mumps, as well as varicella.</td>\n",
              "      <td id=\"T_2b9d4_row0_col3\" class=\"data row0 col3\" >0.228706</td>\n",
              "    </tr>\n",
              "  </tbody>\n",
              "</table>\n"
            ]
          },
          "metadata": {},
          "execution_count": 44
        }
      ]
    }
  ],
  "metadata": {
    "colab": {
      "provenance": []
    },
    "kernelspec": {
      "display_name": "Python 3",
      "name": "python3"
    },
    "language_info": {
      "name": "python"
    }
  },
  "nbformat": 4,
  "nbformat_minor": 0
}