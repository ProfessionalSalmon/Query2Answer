{
  "cells": [
    {
      "cell_type": "code",
      "execution_count": null,
      "metadata": {
        "id": "vR6iTdXPZgBl"
      },
      "outputs": [],
      "source": [
        "!pip install datasets"
      ]
    },
    {
      "cell_type": "code",
      "execution_count": null,
      "metadata": {
        "id": "NfscJCqNZyVY"
      },
      "outputs": [],
      "source": [
        "!pip install sentence_transformers"
      ]
    },
    {
      "cell_type": "code",
      "execution_count": 123,
      "metadata": {
        "id": "lMbq6C9dbYpS",
        "colab": {
          "base_uri": "https://localhost:8080/"
        },
        "outputId": "47443375-696f-44b3-9e72-0db111a46433"
      },
      "outputs": [
        {
          "output_type": "stream",
          "name": "stderr",
          "text": [
            "[nltk_data] Downloading package punkt_tab to /root/nltk_data...\n",
            "[nltk_data]   Package punkt_tab is already up-to-date!\n"
          ]
        }
      ],
      "source": [
        "import random\n",
        "import pandas as pd\n",
        "import numpy as np\n",
        "import re\n",
        "\n",
        "import nltk\n",
        "nltk.download('punkt_tab')\n",
        "from nltk.tokenize import sent_tokenize\n",
        "\n",
        "from transformers import pipeline\n",
        "from datasets import load_dataset\n",
        "from sentence_transformers import SentenceTransformer, util, CrossEncoder"
      ]
    },
    {
      "cell_type": "markdown",
      "metadata": {
        "id": "hKcYOfFafb2c"
      },
      "source": [
        "## Load MS_MARCO Dataset"
      ]
    },
    {
      "cell_type": "code",
      "execution_count": 64,
      "metadata": {
        "id": "DsnnzabfaB8k"
      },
      "outputs": [],
      "source": [
        "dataset = load_dataset(\"ms_marco\",  \"v1.1\", trust_remote_code=True)"
      ]
    },
    {
      "cell_type": "code",
      "source": [
        "train_data = dataset['train'][:100]"
      ],
      "metadata": {
        "id": "9erQNkk5q5lO"
      },
      "execution_count": null,
      "outputs": []
    },
    {
      "cell_type": "code",
      "execution_count": null,
      "metadata": {
        "colab": {
          "base_uri": "https://localhost:8080/"
        },
        "id": "c4iGJoltfMUR",
        "outputId": "1e8779b6-9cfa-41f1-b1ab-435508935c22"
      },
      "outputs": [
        {
          "output_type": "stream",
          "name": "stdout",
          "text": [
            "dict_keys(['answers', 'passages', 'query', 'query_id', 'query_type', 'wellFormedAnswers'])\n"
          ]
        }
      ],
      "source": [
        "print(train_data.keys())"
      ]
    },
    {
      "cell_type": "code",
      "source": [
        "queries = train_data['query']\n",
        "passages = [entry['passage_text'] for entry in train_data['passages']]\n",
        "answers = train_data['answers']"
      ],
      "metadata": {
        "id": "aKM_k6f7x38d"
      },
      "execution_count": null,
      "outputs": []
    },
    {
      "cell_type": "markdown",
      "source": [
        "### Preview Data"
      ],
      "metadata": {
        "id": "neRhhRCpCYa7"
      }
    },
    {
      "cell_type": "code",
      "source": [
        "pd.set_option('display.max_colwidth', 100)\n",
        "pd.set_option('display.colheader_justify', 'left')\n",
        "\n",
        "df = pd.DataFrame({\n",
        "    'query': queries,\n",
        "    'passage': passages,\n",
        "    'answer': answers,\n",
        "})\n",
        "\n",
        "print(df.head())"
      ],
      "metadata": {
        "colab": {
          "base_uri": "https://localhost:8080/"
        },
        "id": "m0-QW5Mxx5Jr",
        "outputId": "12510f19-b61b-4888-83e0-12476fed99d4"
      },
      "execution_count": 122,
      "outputs": [
        {
          "output_type": "stream",
          "name": "stdout",
          "text": [
            "  query                                                   \\\n",
            "0                                            what is rba   \n",
            "1                           was ronald reagan a democrat   \n",
            "2  how long do you need for sydney and surrounding areas   \n",
            "3                        price to install tile in shower   \n",
            "4                        why conversion observed in body   \n",
            "\n",
            "  passage                                                                                               \\\n",
            "0  [Since 2007, the RBA's outstanding reputation has been affected by the 'Securency' or NPA scanda...   \n",
            "1  [In his younger years, Ronald Reagan was a member of the Democratic Party and campaigned for Dem...   \n",
            "2  [Sydney, New South Wales, Australia is located in a coastal basin bordered by the Pacific Ocean ...   \n",
            "3  [In regards to tile installation costs, consumers can expect to pay an average of $25 per square...   \n",
            "4  [Conclusions: In adult body CT, dose to an organ fully encompassed by the primary radiation beam...   \n",
            "\n",
            "  answer                                                                                                \n",
            "0  [Results-Based Accountability is a disciplined way of thinking and taking action that communitie...  \n",
            "1                                                                                                [Yes]  \n",
            "2                                                                                      [20-25 minutes]  \n",
            "3                                                                         [$11 to $22 per square foot]  \n",
            "4                                                                        [Due to symptoms in the body]  \n"
          ]
        }
      ]
    },
    {
      "cell_type": "markdown",
      "source": [
        "## Query Preparation"
      ],
      "metadata": {
        "id": "91MabreooQol"
      }
    },
    {
      "cell_type": "code",
      "source": [
        "def clean_query(query):\n",
        "    # Remove special characters and digits, keep only letters and spaces\n",
        "    cleaned_query = re.sub(r'[^a-zA-Z\\s]', '', query)\n",
        "\n",
        "    cleaned_query = cleaned_query.lower()\n",
        "\n",
        "    return cleaned_query"
      ],
      "metadata": {
        "id": "Nr3C4KpWoQUz"
      },
      "execution_count": 88,
      "outputs": []
    },
    {
      "cell_type": "markdown",
      "source": [
        "## Answer Preparation"
      ],
      "metadata": {
        "id": "d3ttmJEXoYN1"
      }
    },
    {
      "cell_type": "markdown",
      "metadata": {
        "id": "qJQQNu0ffgdi"
      },
      "source": [
        "### Embedder"
      ]
    },
    {
      "cell_type": "code",
      "execution_count": null,
      "metadata": {
        "id": "HGKcAH9zbzej"
      },
      "outputs": [],
      "source": [
        "model_name = 'all-mpnet-base-v2'\n",
        "embedder = SentenceTransformer(model_name)"
      ]
    },
    {
      "cell_type": "markdown",
      "source": [
        "##### Embed all passages"
      ],
      "metadata": {
        "id": "T0frufLnDK5A"
      }
    },
    {
      "cell_type": "code",
      "source": [
        "passage_embeddings = embedder.encode(passages, convert_to_tensor=True)"
      ],
      "metadata": {
        "id": "7JIn4kw5DKKx"
      },
      "execution_count": 60,
      "outputs": []
    },
    {
      "cell_type": "markdown",
      "source": [
        "### Function to Extract the 3 most relevant sentences from the passage"
      ],
      "metadata": {
        "id": "6Yobchv_3ZMR"
      }
    },
    {
      "cell_type": "code",
      "source": [
        "cross_encoder = CrossEncoder(\"cross-encoder/ms-marco-MiniLM-L-6-v2\")"
      ],
      "metadata": {
        "id": "rIgyVoVmZ2I_"
      },
      "execution_count": null,
      "outputs": []
    },
    {
      "cell_type": "code",
      "source": [
        "def extract_relevant_sentence(query, passage, top_k=3):\n",
        "    # Split passage into sentences\n",
        "    sentences = sent_tokenize(passage)\n",
        "\n",
        "    # Create sentence-query pairs\n",
        "    sentence_query_pairs = [(query, sentence) for sentence in sentences]\n",
        "\n",
        "    # Rank sentences using the Cross Encoder\n",
        "    scores = cross_encoder.predict(sentence_query_pairs)\n",
        "\n",
        "    # Get indices of sentences with top-k highest relevance (based on cross-encoder scores)\n",
        "    top_sentence_indices = np.argsort(scores)[::-1][:top_k]\n",
        "\n",
        "    # Get the most relevant sentences based on the top indices\n",
        "    relevant_sentences = [sentences[i] for i in top_sentence_indices]\n",
        "\n",
        "    return \" \".join(relevant_sentences)"
      ],
      "metadata": {
        "id": "6-fL7c9i73As"
      },
      "execution_count": 81,
      "outputs": []
    },
    {
      "cell_type": "markdown",
      "source": [
        "### Set up Summarizer"
      ],
      "metadata": {
        "id": "Ser6QAkfDi20"
      }
    },
    {
      "cell_type": "code",
      "source": [
        "summarizer = pipeline(\"summarization\", model=\"facebook/bart-large-cnn\")"
      ],
      "metadata": {
        "colab": {
          "base_uri": "https://localhost:8080/",
          "height": 226,
          "referenced_widgets": [
            "c879909f0cfc4b7f999cb2dca1f4fbd8",
            "48471cf7eba347a8bc1825ae72e45996",
            "09f8af88a3c94e53bc650011929d7feb",
            "866a2c93465a4a29877789acb394975d",
            "c15d1ba8711946e0a7bc2a790f1bc24a",
            "fcf4d895ad4c41da93e43105e2941a03",
            "677b2837ea104a299c2c17263c1907ae",
            "3445e8c5d4364cddac743c872cf1ff57",
            "998e27d5d2a94ddf9ef300b2f18951f9",
            "40238414743545e5ba3ef3b958ceb996",
            "80d28e9bb6e94563b4cb5bcbcc170992",
            "2c6d95f25a52489a819f14e7c2cabdf6",
            "5cd2be125ce444469afb41e431497070",
            "d8a4ef1093b54c38af205277e22ff97b",
            "0b158a27d6ab4c90a15d33f8378c7646",
            "3789c5b530124e21a315a383b26897e2",
            "e31a4bfe35634445b64a354e5139caee",
            "76c195fd7fd342d99c348b63565dd1b4",
            "b05ae5e340a54d8f902d77718d24300a",
            "b9f699e80216483aa9cd4a22dad9cfe3",
            "321032bc2039425d958590d9a2279c38",
            "80f288856a8646fa8cf59bd5dc442e53",
            "6bc6a3ffe0b945989d743920b2e8e35c",
            "d916fa30dc6f42889e74efcdd07a77fd",
            "95795c4f22204506aa5f0ee71a6aa869",
            "f6bce70dd5634015843bea05f0bf9962",
            "e750388c16e84951981323869815c26e",
            "19b939a136af4757aec5d31a5ba9f9f6",
            "45cd840acbd5458eb53476997ab233ca",
            "30b44e2a81b9410f95f4b98f1594e052",
            "d757627926584d9d937ee1d9f6f4498d",
            "66cc4f91656a425ab58353c451e04127",
            "6cda3b7c12394c6e943eabeb3fe12bcb",
            "b0cb636e57b4445d9e49c170e33f44ca",
            "e834188b637a4344b22454152f65f5d2",
            "cb0c7accc6bb498d85dd79598bf8964e",
            "345f9eb55f1d4aa7927a07b418e2fdef",
            "aefd5b4bedfb4a148dde2d5b8c31803b",
            "c0fc1af3e8014fc3ae3f7bd7fd51464a",
            "c61915b884d04d3996372048ba5ac95c",
            "a719f7e8c17b477eb0c2f5a62fe3c7d8",
            "be0a68c0241b455fac007ab08ebe3ce3",
            "f7d285451aa74ba28d0ceb3faacf998c",
            "72ae4f816def44ad98fd93eb87c50baa",
            "b2155a510a784c60af061e3519ed6725",
            "3dd037d4c6ff4d469cdd65ef0685bf75",
            "630fe018b4a14b28b32bc420b41eb6cf",
            "fb66314822dc4a62b37bcb5981229cf0",
            "9deec833986745f3aab6c36bcde25e96",
            "e4c01248ba694d5f9e6e4bd14c8550cc",
            "605c7e77ce814be69cb7bd8886e647ad",
            "b1e419cdf89040ce9cbe9057daaa5ea6",
            "ee79950fa28c4e3882e65d4f8fc9a1cd",
            "834b030c43a54580b375ceb2d2c81cfb",
            "75cb17fb81c946459eea209f25aca3f0",
            "0b661927bfe242c4a25f8461768afef1",
            "1994b39fa0bc455e8165284d3dc028dd",
            "7bc6b4d674f640fb884b46d61e5d981b",
            "b0f7aacc11cc400c9e9c17b1ad69c5ef",
            "ec767a2fdfe84c7db65d832eaa7fb056",
            "605e95a4575e4161a47cbd899632061e",
            "9d8b9151ff1d4d96ae03aebb1b750e1f",
            "bae364bd08ad4b7bb26d9edcab893b77",
            "04bb02ed65904aff88d59783513170e4",
            "d84b376e7e35425480b3f43776bc4774",
            "a189531e1ef0424d9e1e2fd40d7ed92a"
          ]
        },
        "id": "qKzjrKA67cT7",
        "outputId": "300609fb-2f05-448a-b4aa-6db03b4103e7"
      },
      "execution_count": null,
      "outputs": [
        {
          "output_type": "display_data",
          "data": {
            "text/plain": [
              "config.json:   0%|          | 0.00/1.58k [00:00<?, ?B/s]"
            ],
            "application/vnd.jupyter.widget-view+json": {
              "version_major": 2,
              "version_minor": 0,
              "model_id": "c879909f0cfc4b7f999cb2dca1f4fbd8"
            }
          },
          "metadata": {}
        },
        {
          "output_type": "display_data",
          "data": {
            "text/plain": [
              "model.safetensors:   0%|          | 0.00/1.63G [00:00<?, ?B/s]"
            ],
            "application/vnd.jupyter.widget-view+json": {
              "version_major": 2,
              "version_minor": 0,
              "model_id": "2c6d95f25a52489a819f14e7c2cabdf6"
            }
          },
          "metadata": {}
        },
        {
          "output_type": "display_data",
          "data": {
            "text/plain": [
              "generation_config.json:   0%|          | 0.00/363 [00:00<?, ?B/s]"
            ],
            "application/vnd.jupyter.widget-view+json": {
              "version_major": 2,
              "version_minor": 0,
              "model_id": "6bc6a3ffe0b945989d743920b2e8e35c"
            }
          },
          "metadata": {}
        },
        {
          "output_type": "display_data",
          "data": {
            "text/plain": [
              "vocab.json:   0%|          | 0.00/899k [00:00<?, ?B/s]"
            ],
            "application/vnd.jupyter.widget-view+json": {
              "version_major": 2,
              "version_minor": 0,
              "model_id": "b0cb636e57b4445d9e49c170e33f44ca"
            }
          },
          "metadata": {}
        },
        {
          "output_type": "display_data",
          "data": {
            "text/plain": [
              "merges.txt:   0%|          | 0.00/456k [00:00<?, ?B/s]"
            ],
            "application/vnd.jupyter.widget-view+json": {
              "version_major": 2,
              "version_minor": 0,
              "model_id": "b2155a510a784c60af061e3519ed6725"
            }
          },
          "metadata": {}
        },
        {
          "output_type": "display_data",
          "data": {
            "text/plain": [
              "tokenizer.json:   0%|          | 0.00/1.36M [00:00<?, ?B/s]"
            ],
            "application/vnd.jupyter.widget-view+json": {
              "version_major": 2,
              "version_minor": 0,
              "model_id": "0b661927bfe242c4a25f8461768afef1"
            }
          },
          "metadata": {}
        },
        {
          "output_type": "stream",
          "name": "stderr",
          "text": [
            "Device set to use cpu\n"
          ]
        }
      ]
    },
    {
      "cell_type": "code",
      "source": [
        "def summarize_text(text, max_length, min_length):\n",
        "    summary = summarizer(text, max_length=max_length, min_length=min_length, do_sample=False) # Deterministic not Random Output\n",
        "    return summary[0]['summary_text']"
      ],
      "metadata": {
        "id": "OWjT44nz7i4A"
      },
      "execution_count": null,
      "outputs": []
    },
    {
      "cell_type": "markdown",
      "source": [
        "## Testing the Model"
      ],
      "metadata": {
        "id": "T4N45hooog2t"
      }
    },
    {
      "cell_type": "markdown",
      "source": [
        "### Query based on the queries that came with the dataset"
      ],
      "metadata": {
        "id": "_LWqWRS-ESLM"
      }
    },
    {
      "cell_type": "code",
      "source": [
        "queries_to_use = random.sample(queries, 5)\n",
        "print(queries_to_use)"
      ],
      "metadata": {
        "colab": {
          "base_uri": "https://localhost:8080/"
        },
        "id": "wdT3-LQjhQqM",
        "outputId": "ff9fa208-8d6f-40ef-c384-e0e940860333"
      },
      "execution_count": 92,
      "outputs": [
        {
          "output_type": "stream",
          "name": "stdout",
          "text": [
            "['what is the salary of a person with a biology degree', 'what are monocytes', 'what is slime', 'temperature of neptune in fahrenheit', 'gayla name meaning']\n"
          ]
        }
      ]
    },
    {
      "cell_type": "code",
      "source": [
        "preview = []\n",
        "queries_embeddings = embedder.encode(queries_to_use, convert_to_tensor=True)\n",
        "hit = util.semantic_search(queries_embeddings, passage_embeddings, top_k=1)\n",
        "\n",
        "for i in range(len(queries_to_use)):\n",
        "    query = clean_query(queries_to_use[i])\n",
        "\n",
        "    # Get most relevant passage\n",
        "    result = hit[i][0]\n",
        "    corpus_id = result['corpus_id']  # Use corpus_id to find the passage\n",
        "    passage = ' '.join(passages[corpus_id])\n",
        "\n",
        "    # Extract the 3 most relevant sentences from the passage\n",
        "    best_sentences = extract_relevant_sentence(query, passage, top_k=3)\n",
        "\n",
        "    # Summarize the best sentences\n",
        "    summary = summarizer(best_sentences, max_length=50, min_length=10)\n",
        "\n",
        "    # Store the preview data for this query\n",
        "    preview.append({\n",
        "        \"query\": query,\n",
        "        \"best_sentences\": best_sentences,\n",
        "        \"summary\": summary,\n",
        "        \"query_passage_similarity_score\": result[\"score\"]\n",
        "    })"
      ],
      "metadata": {
        "colab": {
          "base_uri": "https://localhost:8080/"
        },
        "id": "pzi9RoVFEii1",
        "outputId": "1e13caca-d067-4fb9-879a-6f3f2162776a"
      },
      "execution_count": 93,
      "outputs": [
        {
          "output_type": "stream",
          "name": "stderr",
          "text": [
            "Your max_length is set to 50, but your input_length is only 45. Since this is a summarization task, where outputs shorter than the input are typically wanted, you might consider decreasing max_length manually, e.g. summarizer('...', max_length=22)\n"
          ]
        }
      ]
    },
    {
      "cell_type": "code",
      "source": [
        "# Remove key 'summary_text'\n",
        "for entry in preview:\n",
        "    entry['summary'] = entry['summary'][0]['summary_text']"
      ],
      "metadata": {
        "id": "9e1GpZjBJzxc"
      },
      "execution_count": 94,
      "outputs": []
    },
    {
      "cell_type": "code",
      "source": [
        "pd.set_option('display.max_colwidth', None)\n",
        "pd.set_option('display.colheader_justify', 'left')\n",
        "\n",
        "df_preview = pd.DataFrame(preview)\n",
        "df_preview_styled = df_preview.style.set_properties(**{'text-align': 'left'})\n",
        "\n",
        "df_preview_styled"
      ],
      "metadata": {
        "colab": {
          "base_uri": "https://localhost:8080/",
          "height": 397
        },
        "id": "rF9l2Ve8Gq8U",
        "outputId": "977ef441-67c1-4109-f044-fb66c4c26714"
      },
      "execution_count": 119,
      "outputs": [
        {
          "output_type": "execute_result",
          "data": {
            "text/plain": [
              "<pandas.io.formats.style.Styler at 0x78f9d2c92c90>"
            ],
            "text/html": [
              "<style type=\"text/css\">\n",
              "#T_4d70c_row0_col0, #T_4d70c_row0_col1, #T_4d70c_row0_col2, #T_4d70c_row0_col3, #T_4d70c_row1_col0, #T_4d70c_row1_col1, #T_4d70c_row1_col2, #T_4d70c_row1_col3, #T_4d70c_row2_col0, #T_4d70c_row2_col1, #T_4d70c_row2_col2, #T_4d70c_row2_col3, #T_4d70c_row3_col0, #T_4d70c_row3_col1, #T_4d70c_row3_col2, #T_4d70c_row3_col3, #T_4d70c_row4_col0, #T_4d70c_row4_col1, #T_4d70c_row4_col2, #T_4d70c_row4_col3 {\n",
              "  text-align: left;\n",
              "}\n",
              "</style>\n",
              "<table id=\"T_4d70c\" class=\"dataframe\">\n",
              "  <thead>\n",
              "    <tr>\n",
              "      <th class=\"blank level0\" >&nbsp;</th>\n",
              "      <th id=\"T_4d70c_level0_col0\" class=\"col_heading level0 col0\" >query</th>\n",
              "      <th id=\"T_4d70c_level0_col1\" class=\"col_heading level0 col1\" >best_sentences</th>\n",
              "      <th id=\"T_4d70c_level0_col2\" class=\"col_heading level0 col2\" >summary</th>\n",
              "      <th id=\"T_4d70c_level0_col3\" class=\"col_heading level0 col3\" >query_passage_similarity_score</th>\n",
              "    </tr>\n",
              "  </thead>\n",
              "  <tbody>\n",
              "    <tr>\n",
              "      <th id=\"T_4d70c_level0_row0\" class=\"row_heading level0 row0\" >0</th>\n",
              "      <td id=\"T_4d70c_row0_col0\" class=\"data row0 col0\" >what is the salary of a person with a biology degree</td>\n",
              "      <td id=\"T_4d70c_row0_col1\" class=\"data row0 col1\" >Biology majors who don’t attend a graduate program make a median salary of $51,000 per year, which is a little below the median salary for graduates from all other majors combined. The starting median pay for biology majors was $40,600 per year for those who specialized in microbiology, according to PayScale.com's 2010-2011 College Salary Report, while for those with a molecular biology focus it was $40,200 annually. Biology majors working as high school teachers made salaries between $36,801 and $48,519 annually.</td>\n",
              "      <td id=\"T_4d70c_row0_col2\" class=\"data row0 col2\" >Starting median pay for biology majors was $40,600 per year for those who specialized in microbiology. Biology majors working as high school teachers made salaries between $36,801 and $48,519 annually.</td>\n",
              "      <td id=\"T_4d70c_row0_col3\" class=\"data row0 col3\" >0.809996</td>\n",
              "    </tr>\n",
              "    <tr>\n",
              "      <th id=\"T_4d70c_level0_row1\" class=\"row_heading level0 row1\" >1</th>\n",
              "      <td id=\"T_4d70c_row1_col0\" class=\"data row1 col0\" >what are monocytes</td>\n",
              "      <td id=\"T_4d70c_row1_col1\" class=\"data row1 col1\" >Monocytes are a type of leukocyte or white blood cell which play a role in immune system function. Monocytes are a type of white blood cell, part of the human body 's immune system. Monocytes are a type of white blood cell that fights off bacteria, viruses and fungi.</td>\n",
              "      <td id=\"T_4d70c_row1_col2\" class=\"data row1 col2\" >Monocytes are a type of white blood cell that fights off bacteria, viruses and fungi. Monocytes are part of the human body 's immune system.</td>\n",
              "      <td id=\"T_4d70c_row1_col3\" class=\"data row1 col3\" >0.846941</td>\n",
              "    </tr>\n",
              "    <tr>\n",
              "      <th id=\"T_4d70c_level0_row2\" class=\"row_heading level0 row2\" >2</th>\n",
              "      <td id=\"T_4d70c_row2_col0\" class=\"data row2 col0\" >what is slime</td>\n",
              "      <td id=\"T_4d70c_row2_col1\" class=\"data row2 col1\" >Slime is a substance that is slippery and sticky and commonly used as a toy. Slime is a unique play material composed of a cross-linked polymer. Slime is a (usually) green semi-viscous substance that has been synonymous with Nickelodeon since its introduction on You Can't Do That On Television.</td>\n",
              "      <td id=\"T_4d70c_row2_col2\" class=\"data row2 col2\" >Slime is a unique play material composed of a cross-linked polymer. It has been synonymous with Nickelodeon since its introduction on You Can't Do That On Television.</td>\n",
              "      <td id=\"T_4d70c_row2_col3\" class=\"data row2 col3\" >0.646297</td>\n",
              "    </tr>\n",
              "    <tr>\n",
              "      <th id=\"T_4d70c_level0_row3\" class=\"row_heading level0 row3\" >3</th>\n",
              "      <td id=\"T_4d70c_row3_col0\" class=\"data row3 col0\" >temperature of neptune in fahrenheit</td>\n",
              "      <td id=\"T_4d70c_row3_col1\" class=\"data row3 col1\" >The average temperature of Neptune is -200 degrees Celsius (C), which is -328 degrees Fahrenheit (F). However, Neptune's temperature can dip down to -218 degrees Celsius, wh … ich is -360 degrees Fahrenheit. The average temperature on Neptune is about minus 200 degrees Celsius (minus 392 degrees Fahrenheit).</td>\n",
              "      <td id=\"T_4d70c_row3_col2\" class=\"data row3 col2\" >The average temperature of Neptune is -200 degrees Celsius (C), which is -328 degrees Fahrenheit (F) However, Neptune's temperature can dip down to -218 degrees Celsius, wh … ich is -360 degrees Fahrenheit.</td>\n",
              "      <td id=\"T_4d70c_row3_col3\" class=\"data row3 col3\" >0.765028</td>\n",
              "    </tr>\n",
              "    <tr>\n",
              "      <th id=\"T_4d70c_level0_row4\" class=\"row_heading level0 row4\" >4</th>\n",
              "      <td id=\"T_4d70c_row4_col0\" class=\"data row4 col0\" >gayla name meaning</td>\n",
              "      <td id=\"T_4d70c_row4_col1\" class=\"data row4 col1\" >In English the meaning of the name Gayla is: Festive party. In American the meaning of the name Gayla is: Festive party. American Meaning: The name Gayla is an American baby name.</td>\n",
              "      <td id=\"T_4d70c_row4_col2\" class=\"data row4 col2\" >Gayla is an American baby name. In English the meaning of the name Gayla is: Festive party.</td>\n",
              "      <td id=\"T_4d70c_row4_col3\" class=\"data row4 col3\" >0.901657</td>\n",
              "    </tr>\n",
              "  </tbody>\n",
              "</table>\n"
            ]
          },
          "metadata": {},
          "execution_count": 119
        }
      ]
    },
    {
      "cell_type": "markdown",
      "source": [
        "### Input your own query"
      ],
      "metadata": {
        "id": "zSvWPL2gDmm6"
      }
    },
    {
      "cell_type": "code",
      "source": [
        "my_query = clean_query(input(\"My Question: \"))\n",
        "my_query_embedding = embedder.encode([my_query], convert_to_tensor=True)\n",
        "my_hits = util.semantic_search(my_query_embedding, passage_embeddings, top_k=1)\n",
        "\n",
        "my_preview = []\n",
        "\n",
        "for result in my_hits[0]: # Most relevant passage\n",
        "    corpus_id = result[\"corpus_id\"]\n",
        "    passage = \" \".join(passages[corpus_id])\n",
        "\n",
        "    # Extract the 3 most relevant sentences\n",
        "    best_sentences = extract_relevant_sentence(my_query, passage, top_k=3)\n",
        "\n",
        "    # Summarize the best sentences\n",
        "    summary = summarize_text(best_sentences, max_length=50, min_length=10)\n",
        "\n",
        "    my_preview.append({\n",
        "        \"query\": my_query,\n",
        "        \"best_sentences\": best_sentences,\n",
        "        \"summary\": summary,\n",
        "        \"query_passage_similarity_score\": result[\"score\"]\n",
        "    })"
      ],
      "metadata": {
        "colab": {
          "base_uri": "https://localhost:8080/"
        },
        "id": "_ZVlK1Yq8Njc",
        "outputId": "ec76b7d5-3dfc-45f0-b963-72f1470901da"
      },
      "execution_count": 96,
      "outputs": [
        {
          "name": "stdout",
          "output_type": "stream",
          "text": [
            "My Question: How to be a rainbow?\n"
          ]
        }
      ]
    },
    {
      "cell_type": "code",
      "source": [
        "df_my_preview = pd.DataFrame(my_preview)\n",
        "df_my_preview_styled = df_my_preview.style.set_properties(**{'text-align': 'left'})\n",
        "\n",
        "df_my_preview_styled"
      ],
      "metadata": {
        "colab": {
          "base_uri": "https://localhost:8080/",
          "height": 98
        },
        "id": "vvUv6LT2AQTT",
        "outputId": "f317a14c-88b6-4d4a-bc12-35fdfc50cb69"
      },
      "execution_count": 120,
      "outputs": [
        {
          "output_type": "execute_result",
          "data": {
            "text/plain": [
              "<pandas.io.formats.style.Styler at 0x78f9a8f19810>"
            ],
            "text/html": [
              "<style type=\"text/css\">\n",
              "#T_bc155_row0_col0, #T_bc155_row0_col1, #T_bc155_row0_col2, #T_bc155_row0_col3 {\n",
              "  text-align: left;\n",
              "}\n",
              "</style>\n",
              "<table id=\"T_bc155\" class=\"dataframe\">\n",
              "  <thead>\n",
              "    <tr>\n",
              "      <th class=\"blank level0\" >&nbsp;</th>\n",
              "      <th id=\"T_bc155_level0_col0\" class=\"col_heading level0 col0\" >query</th>\n",
              "      <th id=\"T_bc155_level0_col1\" class=\"col_heading level0 col1\" >best_sentences</th>\n",
              "      <th id=\"T_bc155_level0_col2\" class=\"col_heading level0 col2\" >summary</th>\n",
              "      <th id=\"T_bc155_level0_col3\" class=\"col_heading level0 col3\" >query_passage_similarity_score</th>\n",
              "    </tr>\n",
              "  </thead>\n",
              "  <tbody>\n",
              "    <tr>\n",
              "      <th id=\"T_bc155_level0_row0\" class=\"row_heading level0 row0\" >0</th>\n",
              "      <td id=\"T_bc155_row0_col0\" class=\"data row0 col0\" >how to be a rainbow</td>\n",
              "      <td id=\"T_bc155_row0_col1\" class=\"data row0 col1\" >Try adding brown and white to the yellow to get a gold kind of colour. Add a tiny amount of ultramarine blue to darken the hue while maintaining a light overall orange gold tone. Begin with a 2-to-1-to-1 ratio of yellow ochre, raw sienna and carmine.</td>\n",
              "      <td id=\"T_bc155_row0_col2\" class=\"data row0 col2\" >Add a tiny amount of ultramarine blue to darken the hue while maintaining a light overall orange gold tone. Try adding brown and white to the yellow to get a gold kind of colour.</td>\n",
              "      <td id=\"T_bc155_row0_col3\" class=\"data row0 col3\" >0.316554</td>\n",
              "    </tr>\n",
              "  </tbody>\n",
              "</table>\n"
            ]
          },
          "metadata": {},
          "execution_count": 120
        }
      ]
    }
  ],
  "metadata": {
    "colab": {
      "provenance": []
    },
    "kernelspec": {
      "display_name": "Python 3",
      "name": "python3"
    },
    "language_info": {
      "name": "python"
    },
    "widgets": {
      "application/vnd.jupyter.widget-state+json": {
        "c879909f0cfc4b7f999cb2dca1f4fbd8": {
          "model_module": "@jupyter-widgets/controls",
          "model_name": "HBoxModel",
          "model_module_version": "1.5.0",
          "state": {
            "_dom_classes": [],
            "_model_module": "@jupyter-widgets/controls",
            "_model_module_version": "1.5.0",
            "_model_name": "HBoxModel",
            "_view_count": null,
            "_view_module": "@jupyter-widgets/controls",
            "_view_module_version": "1.5.0",
            "_view_name": "HBoxView",
            "box_style": "",
            "children": [
              "IPY_MODEL_48471cf7eba347a8bc1825ae72e45996",
              "IPY_MODEL_09f8af88a3c94e53bc650011929d7feb",
              "IPY_MODEL_866a2c93465a4a29877789acb394975d"
            ],
            "layout": "IPY_MODEL_c15d1ba8711946e0a7bc2a790f1bc24a"
          }
        },
        "48471cf7eba347a8bc1825ae72e45996": {
          "model_module": "@jupyter-widgets/controls",
          "model_name": "HTMLModel",
          "model_module_version": "1.5.0",
          "state": {
            "_dom_classes": [],
            "_model_module": "@jupyter-widgets/controls",
            "_model_module_version": "1.5.0",
            "_model_name": "HTMLModel",
            "_view_count": null,
            "_view_module": "@jupyter-widgets/controls",
            "_view_module_version": "1.5.0",
            "_view_name": "HTMLView",
            "description": "",
            "description_tooltip": null,
            "layout": "IPY_MODEL_fcf4d895ad4c41da93e43105e2941a03",
            "placeholder": "​",
            "style": "IPY_MODEL_677b2837ea104a299c2c17263c1907ae",
            "value": "config.json: 100%"
          }
        },
        "09f8af88a3c94e53bc650011929d7feb": {
          "model_module": "@jupyter-widgets/controls",
          "model_name": "FloatProgressModel",
          "model_module_version": "1.5.0",
          "state": {
            "_dom_classes": [],
            "_model_module": "@jupyter-widgets/controls",
            "_model_module_version": "1.5.0",
            "_model_name": "FloatProgressModel",
            "_view_count": null,
            "_view_module": "@jupyter-widgets/controls",
            "_view_module_version": "1.5.0",
            "_view_name": "ProgressView",
            "bar_style": "success",
            "description": "",
            "description_tooltip": null,
            "layout": "IPY_MODEL_3445e8c5d4364cddac743c872cf1ff57",
            "max": 1585,
            "min": 0,
            "orientation": "horizontal",
            "style": "IPY_MODEL_998e27d5d2a94ddf9ef300b2f18951f9",
            "value": 1585
          }
        },
        "866a2c93465a4a29877789acb394975d": {
          "model_module": "@jupyter-widgets/controls",
          "model_name": "HTMLModel",
          "model_module_version": "1.5.0",
          "state": {
            "_dom_classes": [],
            "_model_module": "@jupyter-widgets/controls",
            "_model_module_version": "1.5.0",
            "_model_name": "HTMLModel",
            "_view_count": null,
            "_view_module": "@jupyter-widgets/controls",
            "_view_module_version": "1.5.0",
            "_view_name": "HTMLView",
            "description": "",
            "description_tooltip": null,
            "layout": "IPY_MODEL_40238414743545e5ba3ef3b958ceb996",
            "placeholder": "​",
            "style": "IPY_MODEL_80d28e9bb6e94563b4cb5bcbcc170992",
            "value": " 1.58k/1.58k [00:00&lt;00:00, 105kB/s]"
          }
        },
        "c15d1ba8711946e0a7bc2a790f1bc24a": {
          "model_module": "@jupyter-widgets/base",
          "model_name": "LayoutModel",
          "model_module_version": "1.2.0",
          "state": {
            "_model_module": "@jupyter-widgets/base",
            "_model_module_version": "1.2.0",
            "_model_name": "LayoutModel",
            "_view_count": null,
            "_view_module": "@jupyter-widgets/base",
            "_view_module_version": "1.2.0",
            "_view_name": "LayoutView",
            "align_content": null,
            "align_items": null,
            "align_self": null,
            "border": null,
            "bottom": null,
            "display": null,
            "flex": null,
            "flex_flow": null,
            "grid_area": null,
            "grid_auto_columns": null,
            "grid_auto_flow": null,
            "grid_auto_rows": null,
            "grid_column": null,
            "grid_gap": null,
            "grid_row": null,
            "grid_template_areas": null,
            "grid_template_columns": null,
            "grid_template_rows": null,
            "height": null,
            "justify_content": null,
            "justify_items": null,
            "left": null,
            "margin": null,
            "max_height": null,
            "max_width": null,
            "min_height": null,
            "min_width": null,
            "object_fit": null,
            "object_position": null,
            "order": null,
            "overflow": null,
            "overflow_x": null,
            "overflow_y": null,
            "padding": null,
            "right": null,
            "top": null,
            "visibility": null,
            "width": null
          }
        },
        "fcf4d895ad4c41da93e43105e2941a03": {
          "model_module": "@jupyter-widgets/base",
          "model_name": "LayoutModel",
          "model_module_version": "1.2.0",
          "state": {
            "_model_module": "@jupyter-widgets/base",
            "_model_module_version": "1.2.0",
            "_model_name": "LayoutModel",
            "_view_count": null,
            "_view_module": "@jupyter-widgets/base",
            "_view_module_version": "1.2.0",
            "_view_name": "LayoutView",
            "align_content": null,
            "align_items": null,
            "align_self": null,
            "border": null,
            "bottom": null,
            "display": null,
            "flex": null,
            "flex_flow": null,
            "grid_area": null,
            "grid_auto_columns": null,
            "grid_auto_flow": null,
            "grid_auto_rows": null,
            "grid_column": null,
            "grid_gap": null,
            "grid_row": null,
            "grid_template_areas": null,
            "grid_template_columns": null,
            "grid_template_rows": null,
            "height": null,
            "justify_content": null,
            "justify_items": null,
            "left": null,
            "margin": null,
            "max_height": null,
            "max_width": null,
            "min_height": null,
            "min_width": null,
            "object_fit": null,
            "object_position": null,
            "order": null,
            "overflow": null,
            "overflow_x": null,
            "overflow_y": null,
            "padding": null,
            "right": null,
            "top": null,
            "visibility": null,
            "width": null
          }
        },
        "677b2837ea104a299c2c17263c1907ae": {
          "model_module": "@jupyter-widgets/controls",
          "model_name": "DescriptionStyleModel",
          "model_module_version": "1.5.0",
          "state": {
            "_model_module": "@jupyter-widgets/controls",
            "_model_module_version": "1.5.0",
            "_model_name": "DescriptionStyleModel",
            "_view_count": null,
            "_view_module": "@jupyter-widgets/base",
            "_view_module_version": "1.2.0",
            "_view_name": "StyleView",
            "description_width": ""
          }
        },
        "3445e8c5d4364cddac743c872cf1ff57": {
          "model_module": "@jupyter-widgets/base",
          "model_name": "LayoutModel",
          "model_module_version": "1.2.0",
          "state": {
            "_model_module": "@jupyter-widgets/base",
            "_model_module_version": "1.2.0",
            "_model_name": "LayoutModel",
            "_view_count": null,
            "_view_module": "@jupyter-widgets/base",
            "_view_module_version": "1.2.0",
            "_view_name": "LayoutView",
            "align_content": null,
            "align_items": null,
            "align_self": null,
            "border": null,
            "bottom": null,
            "display": null,
            "flex": null,
            "flex_flow": null,
            "grid_area": null,
            "grid_auto_columns": null,
            "grid_auto_flow": null,
            "grid_auto_rows": null,
            "grid_column": null,
            "grid_gap": null,
            "grid_row": null,
            "grid_template_areas": null,
            "grid_template_columns": null,
            "grid_template_rows": null,
            "height": null,
            "justify_content": null,
            "justify_items": null,
            "left": null,
            "margin": null,
            "max_height": null,
            "max_width": null,
            "min_height": null,
            "min_width": null,
            "object_fit": null,
            "object_position": null,
            "order": null,
            "overflow": null,
            "overflow_x": null,
            "overflow_y": null,
            "padding": null,
            "right": null,
            "top": null,
            "visibility": null,
            "width": null
          }
        },
        "998e27d5d2a94ddf9ef300b2f18951f9": {
          "model_module": "@jupyter-widgets/controls",
          "model_name": "ProgressStyleModel",
          "model_module_version": "1.5.0",
          "state": {
            "_model_module": "@jupyter-widgets/controls",
            "_model_module_version": "1.5.0",
            "_model_name": "ProgressStyleModel",
            "_view_count": null,
            "_view_module": "@jupyter-widgets/base",
            "_view_module_version": "1.2.0",
            "_view_name": "StyleView",
            "bar_color": null,
            "description_width": ""
          }
        },
        "40238414743545e5ba3ef3b958ceb996": {
          "model_module": "@jupyter-widgets/base",
          "model_name": "LayoutModel",
          "model_module_version": "1.2.0",
          "state": {
            "_model_module": "@jupyter-widgets/base",
            "_model_module_version": "1.2.0",
            "_model_name": "LayoutModel",
            "_view_count": null,
            "_view_module": "@jupyter-widgets/base",
            "_view_module_version": "1.2.0",
            "_view_name": "LayoutView",
            "align_content": null,
            "align_items": null,
            "align_self": null,
            "border": null,
            "bottom": null,
            "display": null,
            "flex": null,
            "flex_flow": null,
            "grid_area": null,
            "grid_auto_columns": null,
            "grid_auto_flow": null,
            "grid_auto_rows": null,
            "grid_column": null,
            "grid_gap": null,
            "grid_row": null,
            "grid_template_areas": null,
            "grid_template_columns": null,
            "grid_template_rows": null,
            "height": null,
            "justify_content": null,
            "justify_items": null,
            "left": null,
            "margin": null,
            "max_height": null,
            "max_width": null,
            "min_height": null,
            "min_width": null,
            "object_fit": null,
            "object_position": null,
            "order": null,
            "overflow": null,
            "overflow_x": null,
            "overflow_y": null,
            "padding": null,
            "right": null,
            "top": null,
            "visibility": null,
            "width": null
          }
        },
        "80d28e9bb6e94563b4cb5bcbcc170992": {
          "model_module": "@jupyter-widgets/controls",
          "model_name": "DescriptionStyleModel",
          "model_module_version": "1.5.0",
          "state": {
            "_model_module": "@jupyter-widgets/controls",
            "_model_module_version": "1.5.0",
            "_model_name": "DescriptionStyleModel",
            "_view_count": null,
            "_view_module": "@jupyter-widgets/base",
            "_view_module_version": "1.2.0",
            "_view_name": "StyleView",
            "description_width": ""
          }
        },
        "2c6d95f25a52489a819f14e7c2cabdf6": {
          "model_module": "@jupyter-widgets/controls",
          "model_name": "HBoxModel",
          "model_module_version": "1.5.0",
          "state": {
            "_dom_classes": [],
            "_model_module": "@jupyter-widgets/controls",
            "_model_module_version": "1.5.0",
            "_model_name": "HBoxModel",
            "_view_count": null,
            "_view_module": "@jupyter-widgets/controls",
            "_view_module_version": "1.5.0",
            "_view_name": "HBoxView",
            "box_style": "",
            "children": [
              "IPY_MODEL_5cd2be125ce444469afb41e431497070",
              "IPY_MODEL_d8a4ef1093b54c38af205277e22ff97b",
              "IPY_MODEL_0b158a27d6ab4c90a15d33f8378c7646"
            ],
            "layout": "IPY_MODEL_3789c5b530124e21a315a383b26897e2"
          }
        },
        "5cd2be125ce444469afb41e431497070": {
          "model_module": "@jupyter-widgets/controls",
          "model_name": "HTMLModel",
          "model_module_version": "1.5.0",
          "state": {
            "_dom_classes": [],
            "_model_module": "@jupyter-widgets/controls",
            "_model_module_version": "1.5.0",
            "_model_name": "HTMLModel",
            "_view_count": null,
            "_view_module": "@jupyter-widgets/controls",
            "_view_module_version": "1.5.0",
            "_view_name": "HTMLView",
            "description": "",
            "description_tooltip": null,
            "layout": "IPY_MODEL_e31a4bfe35634445b64a354e5139caee",
            "placeholder": "​",
            "style": "IPY_MODEL_76c195fd7fd342d99c348b63565dd1b4",
            "value": "model.safetensors: 100%"
          }
        },
        "d8a4ef1093b54c38af205277e22ff97b": {
          "model_module": "@jupyter-widgets/controls",
          "model_name": "FloatProgressModel",
          "model_module_version": "1.5.0",
          "state": {
            "_dom_classes": [],
            "_model_module": "@jupyter-widgets/controls",
            "_model_module_version": "1.5.0",
            "_model_name": "FloatProgressModel",
            "_view_count": null,
            "_view_module": "@jupyter-widgets/controls",
            "_view_module_version": "1.5.0",
            "_view_name": "ProgressView",
            "bar_style": "success",
            "description": "",
            "description_tooltip": null,
            "layout": "IPY_MODEL_b05ae5e340a54d8f902d77718d24300a",
            "max": 1625222120,
            "min": 0,
            "orientation": "horizontal",
            "style": "IPY_MODEL_b9f699e80216483aa9cd4a22dad9cfe3",
            "value": 1625222120
          }
        },
        "0b158a27d6ab4c90a15d33f8378c7646": {
          "model_module": "@jupyter-widgets/controls",
          "model_name": "HTMLModel",
          "model_module_version": "1.5.0",
          "state": {
            "_dom_classes": [],
            "_model_module": "@jupyter-widgets/controls",
            "_model_module_version": "1.5.0",
            "_model_name": "HTMLModel",
            "_view_count": null,
            "_view_module": "@jupyter-widgets/controls",
            "_view_module_version": "1.5.0",
            "_view_name": "HTMLView",
            "description": "",
            "description_tooltip": null,
            "layout": "IPY_MODEL_321032bc2039425d958590d9a2279c38",
            "placeholder": "​",
            "style": "IPY_MODEL_80f288856a8646fa8cf59bd5dc442e53",
            "value": " 1.63G/1.63G [00:13&lt;00:00, 178MB/s]"
          }
        },
        "3789c5b530124e21a315a383b26897e2": {
          "model_module": "@jupyter-widgets/base",
          "model_name": "LayoutModel",
          "model_module_version": "1.2.0",
          "state": {
            "_model_module": "@jupyter-widgets/base",
            "_model_module_version": "1.2.0",
            "_model_name": "LayoutModel",
            "_view_count": null,
            "_view_module": "@jupyter-widgets/base",
            "_view_module_version": "1.2.0",
            "_view_name": "LayoutView",
            "align_content": null,
            "align_items": null,
            "align_self": null,
            "border": null,
            "bottom": null,
            "display": null,
            "flex": null,
            "flex_flow": null,
            "grid_area": null,
            "grid_auto_columns": null,
            "grid_auto_flow": null,
            "grid_auto_rows": null,
            "grid_column": null,
            "grid_gap": null,
            "grid_row": null,
            "grid_template_areas": null,
            "grid_template_columns": null,
            "grid_template_rows": null,
            "height": null,
            "justify_content": null,
            "justify_items": null,
            "left": null,
            "margin": null,
            "max_height": null,
            "max_width": null,
            "min_height": null,
            "min_width": null,
            "object_fit": null,
            "object_position": null,
            "order": null,
            "overflow": null,
            "overflow_x": null,
            "overflow_y": null,
            "padding": null,
            "right": null,
            "top": null,
            "visibility": null,
            "width": null
          }
        },
        "e31a4bfe35634445b64a354e5139caee": {
          "model_module": "@jupyter-widgets/base",
          "model_name": "LayoutModel",
          "model_module_version": "1.2.0",
          "state": {
            "_model_module": "@jupyter-widgets/base",
            "_model_module_version": "1.2.0",
            "_model_name": "LayoutModel",
            "_view_count": null,
            "_view_module": "@jupyter-widgets/base",
            "_view_module_version": "1.2.0",
            "_view_name": "LayoutView",
            "align_content": null,
            "align_items": null,
            "align_self": null,
            "border": null,
            "bottom": null,
            "display": null,
            "flex": null,
            "flex_flow": null,
            "grid_area": null,
            "grid_auto_columns": null,
            "grid_auto_flow": null,
            "grid_auto_rows": null,
            "grid_column": null,
            "grid_gap": null,
            "grid_row": null,
            "grid_template_areas": null,
            "grid_template_columns": null,
            "grid_template_rows": null,
            "height": null,
            "justify_content": null,
            "justify_items": null,
            "left": null,
            "margin": null,
            "max_height": null,
            "max_width": null,
            "min_height": null,
            "min_width": null,
            "object_fit": null,
            "object_position": null,
            "order": null,
            "overflow": null,
            "overflow_x": null,
            "overflow_y": null,
            "padding": null,
            "right": null,
            "top": null,
            "visibility": null,
            "width": null
          }
        },
        "76c195fd7fd342d99c348b63565dd1b4": {
          "model_module": "@jupyter-widgets/controls",
          "model_name": "DescriptionStyleModel",
          "model_module_version": "1.5.0",
          "state": {
            "_model_module": "@jupyter-widgets/controls",
            "_model_module_version": "1.5.0",
            "_model_name": "DescriptionStyleModel",
            "_view_count": null,
            "_view_module": "@jupyter-widgets/base",
            "_view_module_version": "1.2.0",
            "_view_name": "StyleView",
            "description_width": ""
          }
        },
        "b05ae5e340a54d8f902d77718d24300a": {
          "model_module": "@jupyter-widgets/base",
          "model_name": "LayoutModel",
          "model_module_version": "1.2.0",
          "state": {
            "_model_module": "@jupyter-widgets/base",
            "_model_module_version": "1.2.0",
            "_model_name": "LayoutModel",
            "_view_count": null,
            "_view_module": "@jupyter-widgets/base",
            "_view_module_version": "1.2.0",
            "_view_name": "LayoutView",
            "align_content": null,
            "align_items": null,
            "align_self": null,
            "border": null,
            "bottom": null,
            "display": null,
            "flex": null,
            "flex_flow": null,
            "grid_area": null,
            "grid_auto_columns": null,
            "grid_auto_flow": null,
            "grid_auto_rows": null,
            "grid_column": null,
            "grid_gap": null,
            "grid_row": null,
            "grid_template_areas": null,
            "grid_template_columns": null,
            "grid_template_rows": null,
            "height": null,
            "justify_content": null,
            "justify_items": null,
            "left": null,
            "margin": null,
            "max_height": null,
            "max_width": null,
            "min_height": null,
            "min_width": null,
            "object_fit": null,
            "object_position": null,
            "order": null,
            "overflow": null,
            "overflow_x": null,
            "overflow_y": null,
            "padding": null,
            "right": null,
            "top": null,
            "visibility": null,
            "width": null
          }
        },
        "b9f699e80216483aa9cd4a22dad9cfe3": {
          "model_module": "@jupyter-widgets/controls",
          "model_name": "ProgressStyleModel",
          "model_module_version": "1.5.0",
          "state": {
            "_model_module": "@jupyter-widgets/controls",
            "_model_module_version": "1.5.0",
            "_model_name": "ProgressStyleModel",
            "_view_count": null,
            "_view_module": "@jupyter-widgets/base",
            "_view_module_version": "1.2.0",
            "_view_name": "StyleView",
            "bar_color": null,
            "description_width": ""
          }
        },
        "321032bc2039425d958590d9a2279c38": {
          "model_module": "@jupyter-widgets/base",
          "model_name": "LayoutModel",
          "model_module_version": "1.2.0",
          "state": {
            "_model_module": "@jupyter-widgets/base",
            "_model_module_version": "1.2.0",
            "_model_name": "LayoutModel",
            "_view_count": null,
            "_view_module": "@jupyter-widgets/base",
            "_view_module_version": "1.2.0",
            "_view_name": "LayoutView",
            "align_content": null,
            "align_items": null,
            "align_self": null,
            "border": null,
            "bottom": null,
            "display": null,
            "flex": null,
            "flex_flow": null,
            "grid_area": null,
            "grid_auto_columns": null,
            "grid_auto_flow": null,
            "grid_auto_rows": null,
            "grid_column": null,
            "grid_gap": null,
            "grid_row": null,
            "grid_template_areas": null,
            "grid_template_columns": null,
            "grid_template_rows": null,
            "height": null,
            "justify_content": null,
            "justify_items": null,
            "left": null,
            "margin": null,
            "max_height": null,
            "max_width": null,
            "min_height": null,
            "min_width": null,
            "object_fit": null,
            "object_position": null,
            "order": null,
            "overflow": null,
            "overflow_x": null,
            "overflow_y": null,
            "padding": null,
            "right": null,
            "top": null,
            "visibility": null,
            "width": null
          }
        },
        "80f288856a8646fa8cf59bd5dc442e53": {
          "model_module": "@jupyter-widgets/controls",
          "model_name": "DescriptionStyleModel",
          "model_module_version": "1.5.0",
          "state": {
            "_model_module": "@jupyter-widgets/controls",
            "_model_module_version": "1.5.0",
            "_model_name": "DescriptionStyleModel",
            "_view_count": null,
            "_view_module": "@jupyter-widgets/base",
            "_view_module_version": "1.2.0",
            "_view_name": "StyleView",
            "description_width": ""
          }
        },
        "6bc6a3ffe0b945989d743920b2e8e35c": {
          "model_module": "@jupyter-widgets/controls",
          "model_name": "HBoxModel",
          "model_module_version": "1.5.0",
          "state": {
            "_dom_classes": [],
            "_model_module": "@jupyter-widgets/controls",
            "_model_module_version": "1.5.0",
            "_model_name": "HBoxModel",
            "_view_count": null,
            "_view_module": "@jupyter-widgets/controls",
            "_view_module_version": "1.5.0",
            "_view_name": "HBoxView",
            "box_style": "",
            "children": [
              "IPY_MODEL_d916fa30dc6f42889e74efcdd07a77fd",
              "IPY_MODEL_95795c4f22204506aa5f0ee71a6aa869",
              "IPY_MODEL_f6bce70dd5634015843bea05f0bf9962"
            ],
            "layout": "IPY_MODEL_e750388c16e84951981323869815c26e"
          }
        },
        "d916fa30dc6f42889e74efcdd07a77fd": {
          "model_module": "@jupyter-widgets/controls",
          "model_name": "HTMLModel",
          "model_module_version": "1.5.0",
          "state": {
            "_dom_classes": [],
            "_model_module": "@jupyter-widgets/controls",
            "_model_module_version": "1.5.0",
            "_model_name": "HTMLModel",
            "_view_count": null,
            "_view_module": "@jupyter-widgets/controls",
            "_view_module_version": "1.5.0",
            "_view_name": "HTMLView",
            "description": "",
            "description_tooltip": null,
            "layout": "IPY_MODEL_19b939a136af4757aec5d31a5ba9f9f6",
            "placeholder": "​",
            "style": "IPY_MODEL_45cd840acbd5458eb53476997ab233ca",
            "value": "generation_config.json: 100%"
          }
        },
        "95795c4f22204506aa5f0ee71a6aa869": {
          "model_module": "@jupyter-widgets/controls",
          "model_name": "FloatProgressModel",
          "model_module_version": "1.5.0",
          "state": {
            "_dom_classes": [],
            "_model_module": "@jupyter-widgets/controls",
            "_model_module_version": "1.5.0",
            "_model_name": "FloatProgressModel",
            "_view_count": null,
            "_view_module": "@jupyter-widgets/controls",
            "_view_module_version": "1.5.0",
            "_view_name": "ProgressView",
            "bar_style": "success",
            "description": "",
            "description_tooltip": null,
            "layout": "IPY_MODEL_30b44e2a81b9410f95f4b98f1594e052",
            "max": 363,
            "min": 0,
            "orientation": "horizontal",
            "style": "IPY_MODEL_d757627926584d9d937ee1d9f6f4498d",
            "value": 363
          }
        },
        "f6bce70dd5634015843bea05f0bf9962": {
          "model_module": "@jupyter-widgets/controls",
          "model_name": "HTMLModel",
          "model_module_version": "1.5.0",
          "state": {
            "_dom_classes": [],
            "_model_module": "@jupyter-widgets/controls",
            "_model_module_version": "1.5.0",
            "_model_name": "HTMLModel",
            "_view_count": null,
            "_view_module": "@jupyter-widgets/controls",
            "_view_module_version": "1.5.0",
            "_view_name": "HTMLView",
            "description": "",
            "description_tooltip": null,
            "layout": "IPY_MODEL_66cc4f91656a425ab58353c451e04127",
            "placeholder": "​",
            "style": "IPY_MODEL_6cda3b7c12394c6e943eabeb3fe12bcb",
            "value": " 363/363 [00:00&lt;00:00, 30.7kB/s]"
          }
        },
        "e750388c16e84951981323869815c26e": {
          "model_module": "@jupyter-widgets/base",
          "model_name": "LayoutModel",
          "model_module_version": "1.2.0",
          "state": {
            "_model_module": "@jupyter-widgets/base",
            "_model_module_version": "1.2.0",
            "_model_name": "LayoutModel",
            "_view_count": null,
            "_view_module": "@jupyter-widgets/base",
            "_view_module_version": "1.2.0",
            "_view_name": "LayoutView",
            "align_content": null,
            "align_items": null,
            "align_self": null,
            "border": null,
            "bottom": null,
            "display": null,
            "flex": null,
            "flex_flow": null,
            "grid_area": null,
            "grid_auto_columns": null,
            "grid_auto_flow": null,
            "grid_auto_rows": null,
            "grid_column": null,
            "grid_gap": null,
            "grid_row": null,
            "grid_template_areas": null,
            "grid_template_columns": null,
            "grid_template_rows": null,
            "height": null,
            "justify_content": null,
            "justify_items": null,
            "left": null,
            "margin": null,
            "max_height": null,
            "max_width": null,
            "min_height": null,
            "min_width": null,
            "object_fit": null,
            "object_position": null,
            "order": null,
            "overflow": null,
            "overflow_x": null,
            "overflow_y": null,
            "padding": null,
            "right": null,
            "top": null,
            "visibility": null,
            "width": null
          }
        },
        "19b939a136af4757aec5d31a5ba9f9f6": {
          "model_module": "@jupyter-widgets/base",
          "model_name": "LayoutModel",
          "model_module_version": "1.2.0",
          "state": {
            "_model_module": "@jupyter-widgets/base",
            "_model_module_version": "1.2.0",
            "_model_name": "LayoutModel",
            "_view_count": null,
            "_view_module": "@jupyter-widgets/base",
            "_view_module_version": "1.2.0",
            "_view_name": "LayoutView",
            "align_content": null,
            "align_items": null,
            "align_self": null,
            "border": null,
            "bottom": null,
            "display": null,
            "flex": null,
            "flex_flow": null,
            "grid_area": null,
            "grid_auto_columns": null,
            "grid_auto_flow": null,
            "grid_auto_rows": null,
            "grid_column": null,
            "grid_gap": null,
            "grid_row": null,
            "grid_template_areas": null,
            "grid_template_columns": null,
            "grid_template_rows": null,
            "height": null,
            "justify_content": null,
            "justify_items": null,
            "left": null,
            "margin": null,
            "max_height": null,
            "max_width": null,
            "min_height": null,
            "min_width": null,
            "object_fit": null,
            "object_position": null,
            "order": null,
            "overflow": null,
            "overflow_x": null,
            "overflow_y": null,
            "padding": null,
            "right": null,
            "top": null,
            "visibility": null,
            "width": null
          }
        },
        "45cd840acbd5458eb53476997ab233ca": {
          "model_module": "@jupyter-widgets/controls",
          "model_name": "DescriptionStyleModel",
          "model_module_version": "1.5.0",
          "state": {
            "_model_module": "@jupyter-widgets/controls",
            "_model_module_version": "1.5.0",
            "_model_name": "DescriptionStyleModel",
            "_view_count": null,
            "_view_module": "@jupyter-widgets/base",
            "_view_module_version": "1.2.0",
            "_view_name": "StyleView",
            "description_width": ""
          }
        },
        "30b44e2a81b9410f95f4b98f1594e052": {
          "model_module": "@jupyter-widgets/base",
          "model_name": "LayoutModel",
          "model_module_version": "1.2.0",
          "state": {
            "_model_module": "@jupyter-widgets/base",
            "_model_module_version": "1.2.0",
            "_model_name": "LayoutModel",
            "_view_count": null,
            "_view_module": "@jupyter-widgets/base",
            "_view_module_version": "1.2.0",
            "_view_name": "LayoutView",
            "align_content": null,
            "align_items": null,
            "align_self": null,
            "border": null,
            "bottom": null,
            "display": null,
            "flex": null,
            "flex_flow": null,
            "grid_area": null,
            "grid_auto_columns": null,
            "grid_auto_flow": null,
            "grid_auto_rows": null,
            "grid_column": null,
            "grid_gap": null,
            "grid_row": null,
            "grid_template_areas": null,
            "grid_template_columns": null,
            "grid_template_rows": null,
            "height": null,
            "justify_content": null,
            "justify_items": null,
            "left": null,
            "margin": null,
            "max_height": null,
            "max_width": null,
            "min_height": null,
            "min_width": null,
            "object_fit": null,
            "object_position": null,
            "order": null,
            "overflow": null,
            "overflow_x": null,
            "overflow_y": null,
            "padding": null,
            "right": null,
            "top": null,
            "visibility": null,
            "width": null
          }
        },
        "d757627926584d9d937ee1d9f6f4498d": {
          "model_module": "@jupyter-widgets/controls",
          "model_name": "ProgressStyleModel",
          "model_module_version": "1.5.0",
          "state": {
            "_model_module": "@jupyter-widgets/controls",
            "_model_module_version": "1.5.0",
            "_model_name": "ProgressStyleModel",
            "_view_count": null,
            "_view_module": "@jupyter-widgets/base",
            "_view_module_version": "1.2.0",
            "_view_name": "StyleView",
            "bar_color": null,
            "description_width": ""
          }
        },
        "66cc4f91656a425ab58353c451e04127": {
          "model_module": "@jupyter-widgets/base",
          "model_name": "LayoutModel",
          "model_module_version": "1.2.0",
          "state": {
            "_model_module": "@jupyter-widgets/base",
            "_model_module_version": "1.2.0",
            "_model_name": "LayoutModel",
            "_view_count": null,
            "_view_module": "@jupyter-widgets/base",
            "_view_module_version": "1.2.0",
            "_view_name": "LayoutView",
            "align_content": null,
            "align_items": null,
            "align_self": null,
            "border": null,
            "bottom": null,
            "display": null,
            "flex": null,
            "flex_flow": null,
            "grid_area": null,
            "grid_auto_columns": null,
            "grid_auto_flow": null,
            "grid_auto_rows": null,
            "grid_column": null,
            "grid_gap": null,
            "grid_row": null,
            "grid_template_areas": null,
            "grid_template_columns": null,
            "grid_template_rows": null,
            "height": null,
            "justify_content": null,
            "justify_items": null,
            "left": null,
            "margin": null,
            "max_height": null,
            "max_width": null,
            "min_height": null,
            "min_width": null,
            "object_fit": null,
            "object_position": null,
            "order": null,
            "overflow": null,
            "overflow_x": null,
            "overflow_y": null,
            "padding": null,
            "right": null,
            "top": null,
            "visibility": null,
            "width": null
          }
        },
        "6cda3b7c12394c6e943eabeb3fe12bcb": {
          "model_module": "@jupyter-widgets/controls",
          "model_name": "DescriptionStyleModel",
          "model_module_version": "1.5.0",
          "state": {
            "_model_module": "@jupyter-widgets/controls",
            "_model_module_version": "1.5.0",
            "_model_name": "DescriptionStyleModel",
            "_view_count": null,
            "_view_module": "@jupyter-widgets/base",
            "_view_module_version": "1.2.0",
            "_view_name": "StyleView",
            "description_width": ""
          }
        },
        "b0cb636e57b4445d9e49c170e33f44ca": {
          "model_module": "@jupyter-widgets/controls",
          "model_name": "HBoxModel",
          "model_module_version": "1.5.0",
          "state": {
            "_dom_classes": [],
            "_model_module": "@jupyter-widgets/controls",
            "_model_module_version": "1.5.0",
            "_model_name": "HBoxModel",
            "_view_count": null,
            "_view_module": "@jupyter-widgets/controls",
            "_view_module_version": "1.5.0",
            "_view_name": "HBoxView",
            "box_style": "",
            "children": [
              "IPY_MODEL_e834188b637a4344b22454152f65f5d2",
              "IPY_MODEL_cb0c7accc6bb498d85dd79598bf8964e",
              "IPY_MODEL_345f9eb55f1d4aa7927a07b418e2fdef"
            ],
            "layout": "IPY_MODEL_aefd5b4bedfb4a148dde2d5b8c31803b"
          }
        },
        "e834188b637a4344b22454152f65f5d2": {
          "model_module": "@jupyter-widgets/controls",
          "model_name": "HTMLModel",
          "model_module_version": "1.5.0",
          "state": {
            "_dom_classes": [],
            "_model_module": "@jupyter-widgets/controls",
            "_model_module_version": "1.5.0",
            "_model_name": "HTMLModel",
            "_view_count": null,
            "_view_module": "@jupyter-widgets/controls",
            "_view_module_version": "1.5.0",
            "_view_name": "HTMLView",
            "description": "",
            "description_tooltip": null,
            "layout": "IPY_MODEL_c0fc1af3e8014fc3ae3f7bd7fd51464a",
            "placeholder": "​",
            "style": "IPY_MODEL_c61915b884d04d3996372048ba5ac95c",
            "value": "vocab.json: 100%"
          }
        },
        "cb0c7accc6bb498d85dd79598bf8964e": {
          "model_module": "@jupyter-widgets/controls",
          "model_name": "FloatProgressModel",
          "model_module_version": "1.5.0",
          "state": {
            "_dom_classes": [],
            "_model_module": "@jupyter-widgets/controls",
            "_model_module_version": "1.5.0",
            "_model_name": "FloatProgressModel",
            "_view_count": null,
            "_view_module": "@jupyter-widgets/controls",
            "_view_module_version": "1.5.0",
            "_view_name": "ProgressView",
            "bar_style": "success",
            "description": "",
            "description_tooltip": null,
            "layout": "IPY_MODEL_a719f7e8c17b477eb0c2f5a62fe3c7d8",
            "max": 898823,
            "min": 0,
            "orientation": "horizontal",
            "style": "IPY_MODEL_be0a68c0241b455fac007ab08ebe3ce3",
            "value": 898823
          }
        },
        "345f9eb55f1d4aa7927a07b418e2fdef": {
          "model_module": "@jupyter-widgets/controls",
          "model_name": "HTMLModel",
          "model_module_version": "1.5.0",
          "state": {
            "_dom_classes": [],
            "_model_module": "@jupyter-widgets/controls",
            "_model_module_version": "1.5.0",
            "_model_name": "HTMLModel",
            "_view_count": null,
            "_view_module": "@jupyter-widgets/controls",
            "_view_module_version": "1.5.0",
            "_view_name": "HTMLView",
            "description": "",
            "description_tooltip": null,
            "layout": "IPY_MODEL_f7d285451aa74ba28d0ceb3faacf998c",
            "placeholder": "​",
            "style": "IPY_MODEL_72ae4f816def44ad98fd93eb87c50baa",
            "value": " 899k/899k [00:00&lt;00:00, 13.1MB/s]"
          }
        },
        "aefd5b4bedfb4a148dde2d5b8c31803b": {
          "model_module": "@jupyter-widgets/base",
          "model_name": "LayoutModel",
          "model_module_version": "1.2.0",
          "state": {
            "_model_module": "@jupyter-widgets/base",
            "_model_module_version": "1.2.0",
            "_model_name": "LayoutModel",
            "_view_count": null,
            "_view_module": "@jupyter-widgets/base",
            "_view_module_version": "1.2.0",
            "_view_name": "LayoutView",
            "align_content": null,
            "align_items": null,
            "align_self": null,
            "border": null,
            "bottom": null,
            "display": null,
            "flex": null,
            "flex_flow": null,
            "grid_area": null,
            "grid_auto_columns": null,
            "grid_auto_flow": null,
            "grid_auto_rows": null,
            "grid_column": null,
            "grid_gap": null,
            "grid_row": null,
            "grid_template_areas": null,
            "grid_template_columns": null,
            "grid_template_rows": null,
            "height": null,
            "justify_content": null,
            "justify_items": null,
            "left": null,
            "margin": null,
            "max_height": null,
            "max_width": null,
            "min_height": null,
            "min_width": null,
            "object_fit": null,
            "object_position": null,
            "order": null,
            "overflow": null,
            "overflow_x": null,
            "overflow_y": null,
            "padding": null,
            "right": null,
            "top": null,
            "visibility": null,
            "width": null
          }
        },
        "c0fc1af3e8014fc3ae3f7bd7fd51464a": {
          "model_module": "@jupyter-widgets/base",
          "model_name": "LayoutModel",
          "model_module_version": "1.2.0",
          "state": {
            "_model_module": "@jupyter-widgets/base",
            "_model_module_version": "1.2.0",
            "_model_name": "LayoutModel",
            "_view_count": null,
            "_view_module": "@jupyter-widgets/base",
            "_view_module_version": "1.2.0",
            "_view_name": "LayoutView",
            "align_content": null,
            "align_items": null,
            "align_self": null,
            "border": null,
            "bottom": null,
            "display": null,
            "flex": null,
            "flex_flow": null,
            "grid_area": null,
            "grid_auto_columns": null,
            "grid_auto_flow": null,
            "grid_auto_rows": null,
            "grid_column": null,
            "grid_gap": null,
            "grid_row": null,
            "grid_template_areas": null,
            "grid_template_columns": null,
            "grid_template_rows": null,
            "height": null,
            "justify_content": null,
            "justify_items": null,
            "left": null,
            "margin": null,
            "max_height": null,
            "max_width": null,
            "min_height": null,
            "min_width": null,
            "object_fit": null,
            "object_position": null,
            "order": null,
            "overflow": null,
            "overflow_x": null,
            "overflow_y": null,
            "padding": null,
            "right": null,
            "top": null,
            "visibility": null,
            "width": null
          }
        },
        "c61915b884d04d3996372048ba5ac95c": {
          "model_module": "@jupyter-widgets/controls",
          "model_name": "DescriptionStyleModel",
          "model_module_version": "1.5.0",
          "state": {
            "_model_module": "@jupyter-widgets/controls",
            "_model_module_version": "1.5.0",
            "_model_name": "DescriptionStyleModel",
            "_view_count": null,
            "_view_module": "@jupyter-widgets/base",
            "_view_module_version": "1.2.0",
            "_view_name": "StyleView",
            "description_width": ""
          }
        },
        "a719f7e8c17b477eb0c2f5a62fe3c7d8": {
          "model_module": "@jupyter-widgets/base",
          "model_name": "LayoutModel",
          "model_module_version": "1.2.0",
          "state": {
            "_model_module": "@jupyter-widgets/base",
            "_model_module_version": "1.2.0",
            "_model_name": "LayoutModel",
            "_view_count": null,
            "_view_module": "@jupyter-widgets/base",
            "_view_module_version": "1.2.0",
            "_view_name": "LayoutView",
            "align_content": null,
            "align_items": null,
            "align_self": null,
            "border": null,
            "bottom": null,
            "display": null,
            "flex": null,
            "flex_flow": null,
            "grid_area": null,
            "grid_auto_columns": null,
            "grid_auto_flow": null,
            "grid_auto_rows": null,
            "grid_column": null,
            "grid_gap": null,
            "grid_row": null,
            "grid_template_areas": null,
            "grid_template_columns": null,
            "grid_template_rows": null,
            "height": null,
            "justify_content": null,
            "justify_items": null,
            "left": null,
            "margin": null,
            "max_height": null,
            "max_width": null,
            "min_height": null,
            "min_width": null,
            "object_fit": null,
            "object_position": null,
            "order": null,
            "overflow": null,
            "overflow_x": null,
            "overflow_y": null,
            "padding": null,
            "right": null,
            "top": null,
            "visibility": null,
            "width": null
          }
        },
        "be0a68c0241b455fac007ab08ebe3ce3": {
          "model_module": "@jupyter-widgets/controls",
          "model_name": "ProgressStyleModel",
          "model_module_version": "1.5.0",
          "state": {
            "_model_module": "@jupyter-widgets/controls",
            "_model_module_version": "1.5.0",
            "_model_name": "ProgressStyleModel",
            "_view_count": null,
            "_view_module": "@jupyter-widgets/base",
            "_view_module_version": "1.2.0",
            "_view_name": "StyleView",
            "bar_color": null,
            "description_width": ""
          }
        },
        "f7d285451aa74ba28d0ceb3faacf998c": {
          "model_module": "@jupyter-widgets/base",
          "model_name": "LayoutModel",
          "model_module_version": "1.2.0",
          "state": {
            "_model_module": "@jupyter-widgets/base",
            "_model_module_version": "1.2.0",
            "_model_name": "LayoutModel",
            "_view_count": null,
            "_view_module": "@jupyter-widgets/base",
            "_view_module_version": "1.2.0",
            "_view_name": "LayoutView",
            "align_content": null,
            "align_items": null,
            "align_self": null,
            "border": null,
            "bottom": null,
            "display": null,
            "flex": null,
            "flex_flow": null,
            "grid_area": null,
            "grid_auto_columns": null,
            "grid_auto_flow": null,
            "grid_auto_rows": null,
            "grid_column": null,
            "grid_gap": null,
            "grid_row": null,
            "grid_template_areas": null,
            "grid_template_columns": null,
            "grid_template_rows": null,
            "height": null,
            "justify_content": null,
            "justify_items": null,
            "left": null,
            "margin": null,
            "max_height": null,
            "max_width": null,
            "min_height": null,
            "min_width": null,
            "object_fit": null,
            "object_position": null,
            "order": null,
            "overflow": null,
            "overflow_x": null,
            "overflow_y": null,
            "padding": null,
            "right": null,
            "top": null,
            "visibility": null,
            "width": null
          }
        },
        "72ae4f816def44ad98fd93eb87c50baa": {
          "model_module": "@jupyter-widgets/controls",
          "model_name": "DescriptionStyleModel",
          "model_module_version": "1.5.0",
          "state": {
            "_model_module": "@jupyter-widgets/controls",
            "_model_module_version": "1.5.0",
            "_model_name": "DescriptionStyleModel",
            "_view_count": null,
            "_view_module": "@jupyter-widgets/base",
            "_view_module_version": "1.2.0",
            "_view_name": "StyleView",
            "description_width": ""
          }
        },
        "b2155a510a784c60af061e3519ed6725": {
          "model_module": "@jupyter-widgets/controls",
          "model_name": "HBoxModel",
          "model_module_version": "1.5.0",
          "state": {
            "_dom_classes": [],
            "_model_module": "@jupyter-widgets/controls",
            "_model_module_version": "1.5.0",
            "_model_name": "HBoxModel",
            "_view_count": null,
            "_view_module": "@jupyter-widgets/controls",
            "_view_module_version": "1.5.0",
            "_view_name": "HBoxView",
            "box_style": "",
            "children": [
              "IPY_MODEL_3dd037d4c6ff4d469cdd65ef0685bf75",
              "IPY_MODEL_630fe018b4a14b28b32bc420b41eb6cf",
              "IPY_MODEL_fb66314822dc4a62b37bcb5981229cf0"
            ],
            "layout": "IPY_MODEL_9deec833986745f3aab6c36bcde25e96"
          }
        },
        "3dd037d4c6ff4d469cdd65ef0685bf75": {
          "model_module": "@jupyter-widgets/controls",
          "model_name": "HTMLModel",
          "model_module_version": "1.5.0",
          "state": {
            "_dom_classes": [],
            "_model_module": "@jupyter-widgets/controls",
            "_model_module_version": "1.5.0",
            "_model_name": "HTMLModel",
            "_view_count": null,
            "_view_module": "@jupyter-widgets/controls",
            "_view_module_version": "1.5.0",
            "_view_name": "HTMLView",
            "description": "",
            "description_tooltip": null,
            "layout": "IPY_MODEL_e4c01248ba694d5f9e6e4bd14c8550cc",
            "placeholder": "​",
            "style": "IPY_MODEL_605c7e77ce814be69cb7bd8886e647ad",
            "value": "merges.txt: 100%"
          }
        },
        "630fe018b4a14b28b32bc420b41eb6cf": {
          "model_module": "@jupyter-widgets/controls",
          "model_name": "FloatProgressModel",
          "model_module_version": "1.5.0",
          "state": {
            "_dom_classes": [],
            "_model_module": "@jupyter-widgets/controls",
            "_model_module_version": "1.5.0",
            "_model_name": "FloatProgressModel",
            "_view_count": null,
            "_view_module": "@jupyter-widgets/controls",
            "_view_module_version": "1.5.0",
            "_view_name": "ProgressView",
            "bar_style": "success",
            "description": "",
            "description_tooltip": null,
            "layout": "IPY_MODEL_b1e419cdf89040ce9cbe9057daaa5ea6",
            "max": 456318,
            "min": 0,
            "orientation": "horizontal",
            "style": "IPY_MODEL_ee79950fa28c4e3882e65d4f8fc9a1cd",
            "value": 456318
          }
        },
        "fb66314822dc4a62b37bcb5981229cf0": {
          "model_module": "@jupyter-widgets/controls",
          "model_name": "HTMLModel",
          "model_module_version": "1.5.0",
          "state": {
            "_dom_classes": [],
            "_model_module": "@jupyter-widgets/controls",
            "_model_module_version": "1.5.0",
            "_model_name": "HTMLModel",
            "_view_count": null,
            "_view_module": "@jupyter-widgets/controls",
            "_view_module_version": "1.5.0",
            "_view_name": "HTMLView",
            "description": "",
            "description_tooltip": null,
            "layout": "IPY_MODEL_834b030c43a54580b375ceb2d2c81cfb",
            "placeholder": "​",
            "style": "IPY_MODEL_75cb17fb81c946459eea209f25aca3f0",
            "value": " 456k/456k [00:00&lt;00:00, 7.25MB/s]"
          }
        },
        "9deec833986745f3aab6c36bcde25e96": {
          "model_module": "@jupyter-widgets/base",
          "model_name": "LayoutModel",
          "model_module_version": "1.2.0",
          "state": {
            "_model_module": "@jupyter-widgets/base",
            "_model_module_version": "1.2.0",
            "_model_name": "LayoutModel",
            "_view_count": null,
            "_view_module": "@jupyter-widgets/base",
            "_view_module_version": "1.2.0",
            "_view_name": "LayoutView",
            "align_content": null,
            "align_items": null,
            "align_self": null,
            "border": null,
            "bottom": null,
            "display": null,
            "flex": null,
            "flex_flow": null,
            "grid_area": null,
            "grid_auto_columns": null,
            "grid_auto_flow": null,
            "grid_auto_rows": null,
            "grid_column": null,
            "grid_gap": null,
            "grid_row": null,
            "grid_template_areas": null,
            "grid_template_columns": null,
            "grid_template_rows": null,
            "height": null,
            "justify_content": null,
            "justify_items": null,
            "left": null,
            "margin": null,
            "max_height": null,
            "max_width": null,
            "min_height": null,
            "min_width": null,
            "object_fit": null,
            "object_position": null,
            "order": null,
            "overflow": null,
            "overflow_x": null,
            "overflow_y": null,
            "padding": null,
            "right": null,
            "top": null,
            "visibility": null,
            "width": null
          }
        },
        "e4c01248ba694d5f9e6e4bd14c8550cc": {
          "model_module": "@jupyter-widgets/base",
          "model_name": "LayoutModel",
          "model_module_version": "1.2.0",
          "state": {
            "_model_module": "@jupyter-widgets/base",
            "_model_module_version": "1.2.0",
            "_model_name": "LayoutModel",
            "_view_count": null,
            "_view_module": "@jupyter-widgets/base",
            "_view_module_version": "1.2.0",
            "_view_name": "LayoutView",
            "align_content": null,
            "align_items": null,
            "align_self": null,
            "border": null,
            "bottom": null,
            "display": null,
            "flex": null,
            "flex_flow": null,
            "grid_area": null,
            "grid_auto_columns": null,
            "grid_auto_flow": null,
            "grid_auto_rows": null,
            "grid_column": null,
            "grid_gap": null,
            "grid_row": null,
            "grid_template_areas": null,
            "grid_template_columns": null,
            "grid_template_rows": null,
            "height": null,
            "justify_content": null,
            "justify_items": null,
            "left": null,
            "margin": null,
            "max_height": null,
            "max_width": null,
            "min_height": null,
            "min_width": null,
            "object_fit": null,
            "object_position": null,
            "order": null,
            "overflow": null,
            "overflow_x": null,
            "overflow_y": null,
            "padding": null,
            "right": null,
            "top": null,
            "visibility": null,
            "width": null
          }
        },
        "605c7e77ce814be69cb7bd8886e647ad": {
          "model_module": "@jupyter-widgets/controls",
          "model_name": "DescriptionStyleModel",
          "model_module_version": "1.5.0",
          "state": {
            "_model_module": "@jupyter-widgets/controls",
            "_model_module_version": "1.5.0",
            "_model_name": "DescriptionStyleModel",
            "_view_count": null,
            "_view_module": "@jupyter-widgets/base",
            "_view_module_version": "1.2.0",
            "_view_name": "StyleView",
            "description_width": ""
          }
        },
        "b1e419cdf89040ce9cbe9057daaa5ea6": {
          "model_module": "@jupyter-widgets/base",
          "model_name": "LayoutModel",
          "model_module_version": "1.2.0",
          "state": {
            "_model_module": "@jupyter-widgets/base",
            "_model_module_version": "1.2.0",
            "_model_name": "LayoutModel",
            "_view_count": null,
            "_view_module": "@jupyter-widgets/base",
            "_view_module_version": "1.2.0",
            "_view_name": "LayoutView",
            "align_content": null,
            "align_items": null,
            "align_self": null,
            "border": null,
            "bottom": null,
            "display": null,
            "flex": null,
            "flex_flow": null,
            "grid_area": null,
            "grid_auto_columns": null,
            "grid_auto_flow": null,
            "grid_auto_rows": null,
            "grid_column": null,
            "grid_gap": null,
            "grid_row": null,
            "grid_template_areas": null,
            "grid_template_columns": null,
            "grid_template_rows": null,
            "height": null,
            "justify_content": null,
            "justify_items": null,
            "left": null,
            "margin": null,
            "max_height": null,
            "max_width": null,
            "min_height": null,
            "min_width": null,
            "object_fit": null,
            "object_position": null,
            "order": null,
            "overflow": null,
            "overflow_x": null,
            "overflow_y": null,
            "padding": null,
            "right": null,
            "top": null,
            "visibility": null,
            "width": null
          }
        },
        "ee79950fa28c4e3882e65d4f8fc9a1cd": {
          "model_module": "@jupyter-widgets/controls",
          "model_name": "ProgressStyleModel",
          "model_module_version": "1.5.0",
          "state": {
            "_model_module": "@jupyter-widgets/controls",
            "_model_module_version": "1.5.0",
            "_model_name": "ProgressStyleModel",
            "_view_count": null,
            "_view_module": "@jupyter-widgets/base",
            "_view_module_version": "1.2.0",
            "_view_name": "StyleView",
            "bar_color": null,
            "description_width": ""
          }
        },
        "834b030c43a54580b375ceb2d2c81cfb": {
          "model_module": "@jupyter-widgets/base",
          "model_name": "LayoutModel",
          "model_module_version": "1.2.0",
          "state": {
            "_model_module": "@jupyter-widgets/base",
            "_model_module_version": "1.2.0",
            "_model_name": "LayoutModel",
            "_view_count": null,
            "_view_module": "@jupyter-widgets/base",
            "_view_module_version": "1.2.0",
            "_view_name": "LayoutView",
            "align_content": null,
            "align_items": null,
            "align_self": null,
            "border": null,
            "bottom": null,
            "display": null,
            "flex": null,
            "flex_flow": null,
            "grid_area": null,
            "grid_auto_columns": null,
            "grid_auto_flow": null,
            "grid_auto_rows": null,
            "grid_column": null,
            "grid_gap": null,
            "grid_row": null,
            "grid_template_areas": null,
            "grid_template_columns": null,
            "grid_template_rows": null,
            "height": null,
            "justify_content": null,
            "justify_items": null,
            "left": null,
            "margin": null,
            "max_height": null,
            "max_width": null,
            "min_height": null,
            "min_width": null,
            "object_fit": null,
            "object_position": null,
            "order": null,
            "overflow": null,
            "overflow_x": null,
            "overflow_y": null,
            "padding": null,
            "right": null,
            "top": null,
            "visibility": null,
            "width": null
          }
        },
        "75cb17fb81c946459eea209f25aca3f0": {
          "model_module": "@jupyter-widgets/controls",
          "model_name": "DescriptionStyleModel",
          "model_module_version": "1.5.0",
          "state": {
            "_model_module": "@jupyter-widgets/controls",
            "_model_module_version": "1.5.0",
            "_model_name": "DescriptionStyleModel",
            "_view_count": null,
            "_view_module": "@jupyter-widgets/base",
            "_view_module_version": "1.2.0",
            "_view_name": "StyleView",
            "description_width": ""
          }
        },
        "0b661927bfe242c4a25f8461768afef1": {
          "model_module": "@jupyter-widgets/controls",
          "model_name": "HBoxModel",
          "model_module_version": "1.5.0",
          "state": {
            "_dom_classes": [],
            "_model_module": "@jupyter-widgets/controls",
            "_model_module_version": "1.5.0",
            "_model_name": "HBoxModel",
            "_view_count": null,
            "_view_module": "@jupyter-widgets/controls",
            "_view_module_version": "1.5.0",
            "_view_name": "HBoxView",
            "box_style": "",
            "children": [
              "IPY_MODEL_1994b39fa0bc455e8165284d3dc028dd",
              "IPY_MODEL_7bc6b4d674f640fb884b46d61e5d981b",
              "IPY_MODEL_b0f7aacc11cc400c9e9c17b1ad69c5ef"
            ],
            "layout": "IPY_MODEL_ec767a2fdfe84c7db65d832eaa7fb056"
          }
        },
        "1994b39fa0bc455e8165284d3dc028dd": {
          "model_module": "@jupyter-widgets/controls",
          "model_name": "HTMLModel",
          "model_module_version": "1.5.0",
          "state": {
            "_dom_classes": [],
            "_model_module": "@jupyter-widgets/controls",
            "_model_module_version": "1.5.0",
            "_model_name": "HTMLModel",
            "_view_count": null,
            "_view_module": "@jupyter-widgets/controls",
            "_view_module_version": "1.5.0",
            "_view_name": "HTMLView",
            "description": "",
            "description_tooltip": null,
            "layout": "IPY_MODEL_605e95a4575e4161a47cbd899632061e",
            "placeholder": "​",
            "style": "IPY_MODEL_9d8b9151ff1d4d96ae03aebb1b750e1f",
            "value": "tokenizer.json: 100%"
          }
        },
        "7bc6b4d674f640fb884b46d61e5d981b": {
          "model_module": "@jupyter-widgets/controls",
          "model_name": "FloatProgressModel",
          "model_module_version": "1.5.0",
          "state": {
            "_dom_classes": [],
            "_model_module": "@jupyter-widgets/controls",
            "_model_module_version": "1.5.0",
            "_model_name": "FloatProgressModel",
            "_view_count": null,
            "_view_module": "@jupyter-widgets/controls",
            "_view_module_version": "1.5.0",
            "_view_name": "ProgressView",
            "bar_style": "success",
            "description": "",
            "description_tooltip": null,
            "layout": "IPY_MODEL_bae364bd08ad4b7bb26d9edcab893b77",
            "max": 1355863,
            "min": 0,
            "orientation": "horizontal",
            "style": "IPY_MODEL_04bb02ed65904aff88d59783513170e4",
            "value": 1355863
          }
        },
        "b0f7aacc11cc400c9e9c17b1ad69c5ef": {
          "model_module": "@jupyter-widgets/controls",
          "model_name": "HTMLModel",
          "model_module_version": "1.5.0",
          "state": {
            "_dom_classes": [],
            "_model_module": "@jupyter-widgets/controls",
            "_model_module_version": "1.5.0",
            "_model_name": "HTMLModel",
            "_view_count": null,
            "_view_module": "@jupyter-widgets/controls",
            "_view_module_version": "1.5.0",
            "_view_name": "HTMLView",
            "description": "",
            "description_tooltip": null,
            "layout": "IPY_MODEL_d84b376e7e35425480b3f43776bc4774",
            "placeholder": "​",
            "style": "IPY_MODEL_a189531e1ef0424d9e1e2fd40d7ed92a",
            "value": " 1.36M/1.36M [00:00&lt;00:00, 20.3MB/s]"
          }
        },
        "ec767a2fdfe84c7db65d832eaa7fb056": {
          "model_module": "@jupyter-widgets/base",
          "model_name": "LayoutModel",
          "model_module_version": "1.2.0",
          "state": {
            "_model_module": "@jupyter-widgets/base",
            "_model_module_version": "1.2.0",
            "_model_name": "LayoutModel",
            "_view_count": null,
            "_view_module": "@jupyter-widgets/base",
            "_view_module_version": "1.2.0",
            "_view_name": "LayoutView",
            "align_content": null,
            "align_items": null,
            "align_self": null,
            "border": null,
            "bottom": null,
            "display": null,
            "flex": null,
            "flex_flow": null,
            "grid_area": null,
            "grid_auto_columns": null,
            "grid_auto_flow": null,
            "grid_auto_rows": null,
            "grid_column": null,
            "grid_gap": null,
            "grid_row": null,
            "grid_template_areas": null,
            "grid_template_columns": null,
            "grid_template_rows": null,
            "height": null,
            "justify_content": null,
            "justify_items": null,
            "left": null,
            "margin": null,
            "max_height": null,
            "max_width": null,
            "min_height": null,
            "min_width": null,
            "object_fit": null,
            "object_position": null,
            "order": null,
            "overflow": null,
            "overflow_x": null,
            "overflow_y": null,
            "padding": null,
            "right": null,
            "top": null,
            "visibility": null,
            "width": null
          }
        },
        "605e95a4575e4161a47cbd899632061e": {
          "model_module": "@jupyter-widgets/base",
          "model_name": "LayoutModel",
          "model_module_version": "1.2.0",
          "state": {
            "_model_module": "@jupyter-widgets/base",
            "_model_module_version": "1.2.0",
            "_model_name": "LayoutModel",
            "_view_count": null,
            "_view_module": "@jupyter-widgets/base",
            "_view_module_version": "1.2.0",
            "_view_name": "LayoutView",
            "align_content": null,
            "align_items": null,
            "align_self": null,
            "border": null,
            "bottom": null,
            "display": null,
            "flex": null,
            "flex_flow": null,
            "grid_area": null,
            "grid_auto_columns": null,
            "grid_auto_flow": null,
            "grid_auto_rows": null,
            "grid_column": null,
            "grid_gap": null,
            "grid_row": null,
            "grid_template_areas": null,
            "grid_template_columns": null,
            "grid_template_rows": null,
            "height": null,
            "justify_content": null,
            "justify_items": null,
            "left": null,
            "margin": null,
            "max_height": null,
            "max_width": null,
            "min_height": null,
            "min_width": null,
            "object_fit": null,
            "object_position": null,
            "order": null,
            "overflow": null,
            "overflow_x": null,
            "overflow_y": null,
            "padding": null,
            "right": null,
            "top": null,
            "visibility": null,
            "width": null
          }
        },
        "9d8b9151ff1d4d96ae03aebb1b750e1f": {
          "model_module": "@jupyter-widgets/controls",
          "model_name": "DescriptionStyleModel",
          "model_module_version": "1.5.0",
          "state": {
            "_model_module": "@jupyter-widgets/controls",
            "_model_module_version": "1.5.0",
            "_model_name": "DescriptionStyleModel",
            "_view_count": null,
            "_view_module": "@jupyter-widgets/base",
            "_view_module_version": "1.2.0",
            "_view_name": "StyleView",
            "description_width": ""
          }
        },
        "bae364bd08ad4b7bb26d9edcab893b77": {
          "model_module": "@jupyter-widgets/base",
          "model_name": "LayoutModel",
          "model_module_version": "1.2.0",
          "state": {
            "_model_module": "@jupyter-widgets/base",
            "_model_module_version": "1.2.0",
            "_model_name": "LayoutModel",
            "_view_count": null,
            "_view_module": "@jupyter-widgets/base",
            "_view_module_version": "1.2.0",
            "_view_name": "LayoutView",
            "align_content": null,
            "align_items": null,
            "align_self": null,
            "border": null,
            "bottom": null,
            "display": null,
            "flex": null,
            "flex_flow": null,
            "grid_area": null,
            "grid_auto_columns": null,
            "grid_auto_flow": null,
            "grid_auto_rows": null,
            "grid_column": null,
            "grid_gap": null,
            "grid_row": null,
            "grid_template_areas": null,
            "grid_template_columns": null,
            "grid_template_rows": null,
            "height": null,
            "justify_content": null,
            "justify_items": null,
            "left": null,
            "margin": null,
            "max_height": null,
            "max_width": null,
            "min_height": null,
            "min_width": null,
            "object_fit": null,
            "object_position": null,
            "order": null,
            "overflow": null,
            "overflow_x": null,
            "overflow_y": null,
            "padding": null,
            "right": null,
            "top": null,
            "visibility": null,
            "width": null
          }
        },
        "04bb02ed65904aff88d59783513170e4": {
          "model_module": "@jupyter-widgets/controls",
          "model_name": "ProgressStyleModel",
          "model_module_version": "1.5.0",
          "state": {
            "_model_module": "@jupyter-widgets/controls",
            "_model_module_version": "1.5.0",
            "_model_name": "ProgressStyleModel",
            "_view_count": null,
            "_view_module": "@jupyter-widgets/base",
            "_view_module_version": "1.2.0",
            "_view_name": "StyleView",
            "bar_color": null,
            "description_width": ""
          }
        },
        "d84b376e7e35425480b3f43776bc4774": {
          "model_module": "@jupyter-widgets/base",
          "model_name": "LayoutModel",
          "model_module_version": "1.2.0",
          "state": {
            "_model_module": "@jupyter-widgets/base",
            "_model_module_version": "1.2.0",
            "_model_name": "LayoutModel",
            "_view_count": null,
            "_view_module": "@jupyter-widgets/base",
            "_view_module_version": "1.2.0",
            "_view_name": "LayoutView",
            "align_content": null,
            "align_items": null,
            "align_self": null,
            "border": null,
            "bottom": null,
            "display": null,
            "flex": null,
            "flex_flow": null,
            "grid_area": null,
            "grid_auto_columns": null,
            "grid_auto_flow": null,
            "grid_auto_rows": null,
            "grid_column": null,
            "grid_gap": null,
            "grid_row": null,
            "grid_template_areas": null,
            "grid_template_columns": null,
            "grid_template_rows": null,
            "height": null,
            "justify_content": null,
            "justify_items": null,
            "left": null,
            "margin": null,
            "max_height": null,
            "max_width": null,
            "min_height": null,
            "min_width": null,
            "object_fit": null,
            "object_position": null,
            "order": null,
            "overflow": null,
            "overflow_x": null,
            "overflow_y": null,
            "padding": null,
            "right": null,
            "top": null,
            "visibility": null,
            "width": null
          }
        },
        "a189531e1ef0424d9e1e2fd40d7ed92a": {
          "model_module": "@jupyter-widgets/controls",
          "model_name": "DescriptionStyleModel",
          "model_module_version": "1.5.0",
          "state": {
            "_model_module": "@jupyter-widgets/controls",
            "_model_module_version": "1.5.0",
            "_model_name": "DescriptionStyleModel",
            "_view_count": null,
            "_view_module": "@jupyter-widgets/base",
            "_view_module_version": "1.2.0",
            "_view_name": "StyleView",
            "description_width": ""
          }
        }
      }
    }
  },
  "nbformat": 4,
  "nbformat_minor": 0
}